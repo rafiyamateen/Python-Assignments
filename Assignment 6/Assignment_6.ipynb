{
 "cells": [
  {
   "cell_type": "markdown",
   "metadata": {},
   "source": [
    "## Question 1\n",
    "In a transportation system, we have two classes: \n",
    "- ElectricVehicle: A class that has a method charge() to charge the vehicle. \n",
    "- GasolineVehicle: A class that has a method fuel_up() to refuel the vehicle.\n",
    "\n",
    "Create a class HybridCar that inherits from both ElectricVehicle and GasolineVehicle. The HybridCar\n",
    "class should have a method drive() that prints a message showing the car is being driven. Instantiate\n",
    "an object of class HybridCar and demonstrate the usage of charge(), fuel_up(), and drive().\n",
    "Expected Output: \n",
    "- Charging the electric vehicle. \n",
    "- Filling up the gasoline tank. \n",
    "- Driving the hybrid car."
   ]
  },
  {
   "cell_type": "code",
   "execution_count": 6,
   "metadata": {},
   "outputs": [
    {
     "name": "stdout",
     "output_type": "stream",
     "text": [
      "Charging the electric vehicle.\n",
      "Filling up the gasoline tank.\n",
      "Driving the hybrid car.\n"
     ]
    }
   ],
   "source": [
    "class ElectricVehicle:\n",
    "    def charge(self):\n",
    "       print(\"Charging the electric vehicle.\")\n",
    "\n",
    "class GasolineVehicle:\n",
    "    def fuel_up(self):\n",
    "       print(\"Filling up the gasoline tank.\")\n",
    "\n",
    "class HybridCar(ElectricVehicle, GasolineVehicle):\n",
    "    def drive(self):\n",
    "       print(\"Driving the hybrid car.\")\n",
    "\n",
    "HybridCar_obj = HybridCar()\n",
    "\n",
    "HybridCar_obj.charge()\n",
    "HybridCar_obj.fuel_up()\n",
    "HybridCar_obj.drive()"
   ]
  },
  {
   "cell_type": "markdown",
   "metadata": {},
   "source": [
    "## Question 2:\n",
    "Create a class Animal with a method make_sound(), which prints \"Animal makes a sound\". Then,\n",
    "create two subclasses: \n",
    "- Lion: Override the make_sound() method to print \"Roar\". \n",
    "- Cat: Override the make_sound() method to print \"Meow\".\n",
    "\n",
    "Demonstrate polymorphism by calling make_sound() on instances of Lion and Cat.\n"
   ]
  },
  {
   "cell_type": "code",
   "execution_count": 7,
   "metadata": {},
   "outputs": [
    {
     "name": "stdout",
     "output_type": "stream",
     "text": [
      "Roar\n",
      "Meow\n"
     ]
    }
   ],
   "source": [
    "class Animal:\n",
    "    def make_sound(self):\n",
    "        print(\"Animal makes a sound.\")\n",
    "\n",
    "class Lion(Animal):\n",
    "    def make_sound(self):\n",
    "        print(\"Roar\")\n",
    "\n",
    "class Cat(Animal):\n",
    "    def make_sound(self):\n",
    "        print(\"Meow\")\n",
    "\n",
    "lion = Lion()\n",
    "cat = Cat()\n",
    "\n",
    "lion.make_sound()\n",
    "cat.make_sound()"
   ]
  },
  {
   "cell_type": "markdown",
   "metadata": {},
   "source": [
    "## Question 3:\n",
    "Create an abstract class SmartHomeDevice with two abstract methods: \n",
    "- turn_on() (to turn the device on) \n",
    "- turn_off() (to turn the device off)\n",
    "\n",
    "Then, create a Light class that inherits from SmartHomeDevice. Implement the methods turn_on()\n",
    "and turn_off() for a light device. The turn_on() method should print \"Light is ON\", and the turn_off()\n",
    "method should print \"Light is OFF\".\n",
    "\n",
    "Write a Python program to control the light device in a smart home.\n",
    "Expected Output: \n",
    "- Turning on the light... \n",
    "- Light is ON\n",
    "- Turning off the light... \n",
    "- Light is OFF"
   ]
  },
  {
   "cell_type": "code",
   "execution_count": 9,
   "metadata": {},
   "outputs": [
    {
     "name": "stdout",
     "output_type": "stream",
     "text": [
      "Turning on the light...\n",
      "Light is ON\n",
      "Turning off the light...\n",
      "Light is OFF\n"
     ]
    }
   ],
   "source": [
    "class SmartHomeDevice:\n",
    "    def turn_on(self):\n",
    "        print(\"Device is ON\")\n",
    "    def turn_off(self):\n",
    "        print(\"Device is OFF\")\n",
    "\n",
    "class Light(SmartHomeDevice):\n",
    "    def turn_on(self):\n",
    "        print(\"Light is ON\")\n",
    "    def turn_off(self):\n",
    "        print(\"Light is OFF\")\n",
    "    \n",
    "light = Light()\n",
    "\n",
    "print(\"Turning on the light...\")\n",
    "light.turn_on()\n",
    "print(\"Turning off the light...\")\n",
    "light.turn_off()"
   ]
  },
  {
   "cell_type": "markdown",
   "metadata": {},
   "source": [
    "## Question 4:\n",
    "Create a class Greeting with a method greet() that can handle different numbers of arguments. \n",
    "- If no argument is passed, it should print \"Hello!\". \n",
    "- If one argument (a name) is passed, it should print \"Hello, !\". \n",
    "- If two arguments (a name and a greeting) are passed, it should print the greeting with the\n",
    "name (e.g., \"Good morning, !\").\n",
    "\n",
    "Simulate method overloading using default arguments or variable-length arguments, and\n",
    "demonstrate the polymorphic behavior by calling greet() with different numbers of arguments.\n",
    "\n",
    "Expected Output: \n",
    "- Hello! \n",
    "- Hello, John! \n",
    "- Good morning, John!"
   ]
  },
  {
   "cell_type": "code",
   "execution_count": 8,
   "metadata": {},
   "outputs": [
    {
     "name": "stdout",
     "output_type": "stream",
     "text": [
      "Hello!\n",
      "Hello, John!\n",
      "Good Evening, John!\n"
     ]
    }
   ],
   "source": [
    "class Greeting:\n",
    "    def greet(self, name=None, greeting=None):\n",
    "        if(name and greeting):\n",
    "            print(f\"{greeting}, {name}!\")\n",
    "        elif(name):\n",
    "            print(f\"Hello, {name}!\")\n",
    "        else:\n",
    "            print(\"Hello!\")\n",
    "\n",
    "greeting = Greeting()\n",
    "\n",
    "greeting.greet()\n",
    "greeting.greet(name=\"John\")\n",
    "greeting.greet(name=\"John\", greeting=\"Good Evening\")"
   ]
  },
  {
   "cell_type": "markdown",
   "metadata": {},
   "source": [
    "## Question 5:\n",
    "Create a class CarRental to manage the rental of cars.\n",
    "\n",
    "- The class should have private attributes for the car&#39;s name, price per day, and the number of\n",
    "rental days.\n",
    "\n",
    "- Create a method to calculate the total rental cost and a method to set the rental days.\n",
    "\n",
    "- Use getter and setter methods for modifying and accessing the car&#39;s information.\n",
    "\n",
    "Demonstrate encapsulation by creating an object of CarRental and calculating the total rental cost.\n",
    "\n",
    "Expected Output:\n",
    "\n",
    "- Car Name: Toyota Camry\n",
    "\n",
    "- Price Per Day: $50\n",
    "\n",
    "- Rental Days: 5\n",
    "\n",
    "- Total Rental Cost: $250"
   ]
  },
  {
   "cell_type": "code",
   "execution_count": 13,
   "metadata": {},
   "outputs": [
    {
     "name": "stdout",
     "output_type": "stream",
     "text": [
      "Car Name: Toyota Camry\n",
      "Price Per Day: $50\n",
      "Rental Days: 5\n",
      "Total Rental Cost: $250\n"
     ]
    }
   ],
   "source": [
    "class CarRental:\n",
    "    def __init__(self, car_name, price_per_day, rental_days):\n",
    "        self.__car_name = car_name\n",
    "        self.__price_per_day = price_per_day\n",
    "        self.__rental_days = rental_days\n",
    "\n",
    "    def calculate_total_cost(self):\n",
    "        return self.__price_per_day * self.__rental_days\n",
    "\n",
    "    def set_rental_days(self, days):\n",
    "        self.__rental_days = days\n",
    "        \n",
    "    def get_car_name(self):\n",
    "        return self.__car_name\n",
    "    \n",
    "    def get_price_per_day(self):\n",
    "        return self.__price_per_day\n",
    "    \n",
    "    def get_rental_days(self):\n",
    "        return self.__rental_days\n",
    "    \n",
    "    def set_car_name(self, car_name):\n",
    "        self.__car_name = car_name\n",
    "    \n",
    "    def set_price_per_day(self, price):\n",
    "            self.__price_per_day = price\n",
    "    \n",
    "\n",
    "carRental = CarRental(\"Toyota Camry\", 50, 20)\n",
    "\n",
    "carRental.set_rental_days(5)\n",
    "total_cost = carRental.calculate_total_cost()\n",
    "\n",
    "\n",
    "print(f\"Car Name: {carRental.get_car_name()}\")\n",
    "print(f\"Price Per Day: ${carRental.get_price_per_day()}\")\n",
    "print(f\"Rental Days: {carRental.get_rental_days()}\")\n",
    "print(f\"Total Rental Cost: ${total_cost}\")"
   ]
  }
 ],
 "metadata": {
  "kernelspec": {
   "display_name": "Python 3",
   "language": "python",
   "name": "python3"
  },
  "language_info": {
   "codemirror_mode": {
    "name": "ipython",
    "version": 3
   },
   "file_extension": ".py",
   "mimetype": "text/x-python",
   "name": "python",
   "nbconvert_exporter": "python",
   "pygments_lexer": "ipython3",
   "version": "3.10.0"
  }
 },
 "nbformat": 4,
 "nbformat_minor": 2
}
