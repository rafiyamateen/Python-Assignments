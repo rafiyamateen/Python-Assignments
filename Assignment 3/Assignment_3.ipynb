{
 "cells": [
  {
   "cell_type": "markdown",
   "id": "a388a496-bed9-4fcf-ada7-cb1611d570c8",
   "metadata": {},
   "source": [
    "## Question 1\n",
    "Write program to check a person’s eligibility for a loan based on age, credit score, and income. This time, the\n",
    "eligibility criteria will be:\n",
    "The person must be 18 years or older. The person must have a credit score of 650 or higher. The person must have an annual income of at least 30000 dollars If the person has a credit score of 700 or higher, they may still be eligible with an income of 25000 dollars or more."
   ]
  },
  {
   "cell_type": "code",
   "execution_count": 1,
   "id": "a51ee172-e301-4544-8943-6a65f3d375f4",
   "metadata": {},
   "outputs": [
    {
     "name": "stdin",
     "output_type": "stream",
     "text": [
      "Enter your age: 16\n"
     ]
    },
    {
     "name": "stdout",
     "output_type": "stream",
     "text": [
      "You are not eligible for a loan because you are underage.\n"
     ]
    }
   ],
   "source": [
    "age = int(input(\"Enter your age:\"))\n",
    "\n",
    "if age >= 18:\n",
    "    credit_score = int(input(\"Enter your credit sore:\"))\n",
    "    annual_income = int(input(\"Enter your annual income:\"))\n",
    "    if credit_score >= 650 and annual_income >= 30000:\n",
    "        print(\"You are eligible for a loan.\")\n",
    "    elif credit_score >= 700 and annual_income >= 25000:\n",
    "        print(\"You are eligible for a loan.\")\n",
    "    else:\n",
    "        print(\"You are not eligible for a loan.\")\n",
    "else:\n",
    "    print(\"You are not eligible for a loan because you are underage.\")"
   ]
  },
  {
   "cell_type": "markdown",
   "id": "bc7dd6a9-7205-4fef-9c29-2f34fa2cf52b",
   "metadata": {},
   "source": [
    "## Question 2\n",
    "Write a Python program that checks if a person is an adult (age ≥ 18).\n",
    "Take the age as input.\n",
    "If the person is underage (age < 18), show message: \"You are underage\" and don't ask for experience.\n",
    "If the person is an adult, take years of experience as input and print:\n",
    "\"You have a lot of experience.\" (10+ years)\n",
    "\"You have moderate experience.\" (5-9 years)\n",
    "\"You are relatively new.\" (2-4 years)\n",
    "\"You are just starting out.\" (less than 2 years)"
   ]
  },
  {
   "cell_type": "code",
   "execution_count": 3,
   "id": "843f836c-6dde-4f31-8460-1cb945aaa37d",
   "metadata": {},
   "outputs": [
    {
     "name": "stdin",
     "output_type": "stream",
     "text": [
      "Enter your age: 22\n",
      "Enter your years of experience: 4\n"
     ]
    },
    {
     "name": "stdout",
     "output_type": "stream",
     "text": [
      "You are relatively new.\n"
     ]
    }
   ],
   "source": [
    "age = int(input(\"Enter your age:\"))\n",
    "\n",
    "if age < 18:\n",
    "    print(\"You are underage.\")\n",
    "else:\n",
    "    years_of_experience = int(input(\"Enter your years of experience:\"))\n",
    "    if years_of_experience >= 10:\n",
    "        print(\"You have a lot of experience.\")\n",
    "    elif years_of_experience >= 5:\n",
    "        print(\"You have moderate experience.\")\n",
    "    elif years_of_experience >= 2:\n",
    "        print(\"You are relatively new.\")\n",
    "    else:\n",
    "        print(\"You are just starting out.\")"
   ]
  },
  {
   "cell_type": "markdown",
   "id": "73bd0054-4fc3-4572-8609-ff4cc52b9977",
   "metadata": {},
   "source": [
    "## Question 3\n",
    "Write a program to explore below variables\n",
    "a) Print their memory address (to check if python assigns same address of different variables having same element)b) Find memory size and append them in a list, use this list to find data type having least memory size\n",
    "c) Print final name of data type which has lowest memory\n",
    "Result will help a programmer to decide which variable is storing less memory and variable locations"
   ]
  },
  {
   "cell_type": "code",
   "execution_count": 1,
   "id": "f92d5f68-4a9d-4795-8396-b86f7f4edf0e",
   "metadata": {},
   "outputs": [
    {
     "name": "stdout",
     "output_type": "stream",
     "text": [
      "Part (a):\n",
      "integer address: 140723743113880\n",
      "integer2 address: 140723743113880\n",
      "float_ address: 2645436655728\n",
      "list_ address: 2645438799104\n",
      "string address: 2645417043856\n",
      "tuple_ address: 140723743113880\n",
      "\n",
      "Part (b):\n",
      "Memory sizes: [('Integer', 28), ('Float', 24), ('List', 64), ('String', 44), ('Tuple', 28)]\n",
      "\n",
      "Part (c):\n",
      "Name of data type with lowest memory: Float\n"
     ]
    }
   ],
   "source": [
    "import sys\n",
    "\n",
    "integer = 200\n",
    "integer2 = 200\n",
    "float_ = 200.0\n",
    "list_ = [200]\n",
    "string = \"200\"\n",
    "tuple_ = (200)\n",
    "\n",
    "# Part (a)\n",
    "print(\"Part (a):\")\n",
    "print(\"integer address:\", id(integer))\n",
    "print(\"integer2 address:\", id(integer2))\n",
    "print(\"float_ address:\", id(float_))\n",
    "print(\"list_ address:\", id(list_))\n",
    "print(\"string address:\", id(string))\n",
    "print(\"tuple_ address:\", id(tuple_))\n",
    "print()\n",
    "\n",
    "# Part (b)\n",
    "memory_sizes = []\n",
    "\n",
    "integer_size = sys.getsizeof(integer)\n",
    "memory_sizes.append((\"Integer\", integer_size))\n",
    "\n",
    "float_size = sys.getsizeof(float_)\n",
    "memory_sizes.append((\"Float\", float_size))\n",
    "\n",
    "list_size = sys.getsizeof(list_)\n",
    "memory_sizes.append((\"List\", list_size))\n",
    "\n",
    "string_size = sys.getsizeof(string)\n",
    "memory_sizes.append((\"String\", string_size))\n",
    "                            \n",
    "tuple_size = sys.getsizeof(tuple_)\n",
    "memory_sizes.append((\"Tuple\", tuple_size))\n",
    "\n",
    "data_type = memory_sizes[0][0]\n",
    "smallest_size = memory_sizes[0][1]\n",
    "\n",
    "print(\"Part (b):\")\n",
    "print(\"Memory sizes:\", memory_sizes)\n",
    "print()\n",
    "\n",
    "if memory_sizes[1][1] < smallest_size:\n",
    "    smallest_size = memory_sizes[1][1]\n",
    "    data_type = memory_sizes[1][0]\n",
    "\n",
    "if memory_sizes[2][1] < smallest_size:\n",
    "    smallest_size = memory_sizes[2][1]\n",
    "    data_type = memory_sizes[2][0]\n",
    "\n",
    "if memory_sizes[3][1] < smallest_size:\n",
    "    smallest_size = memory_sizes[3][1]\n",
    "    data_type = memory_sizes[3][0]\n",
    "\n",
    "if memory_sizes[4][1] < smallest_size:\n",
    "    smallest_size = memory_sizes[4][1]\n",
    "    data_type = memory_sizes[4][0]\n",
    "\n",
    "# Part (c)\n",
    "print(\"Part (c):\")\n",
    "print(\"Name of data type with lowest memory:\", data_type)"
   ]
  },
  {
   "cell_type": "markdown",
   "id": "fd5a1bf1-c2eb-4182-8583-a708d2d8822c",
   "metadata": {},
   "source": [
    "## Question 4\n",
    "Write a Python program that asks the user to enter an email address. The program should check if the email\n",
    "contains the characters @ and \".\" (ignoring case). If either character is present, print \"Email format is valid.\"\n",
    "Otherwise, print \"Invalid email format.\""
   ]
  },
  {
   "cell_type": "code",
   "execution_count": 2,
   "id": "fc77b0b0-cba7-4b4e-87a9-edfe1339151f",
   "metadata": {},
   "outputs": [
    {
     "name": "stdin",
     "output_type": "stream",
     "text": [
      "Enter your email address: qwer\n"
     ]
    },
    {
     "name": "stdout",
     "output_type": "stream",
     "text": [
      "Invalid email format.\n"
     ]
    }
   ],
   "source": [
    "email = input(\"Enter your email address:\")\n",
    "\n",
    "if \"@\" in email and \".\" in email:\n",
    "     print(\"Email format is valid.\")\n",
    "else:\n",
    "    print(\"Invalid email format.\")"
   ]
  },
  {
   "cell_type": "markdown",
   "id": "48944e78-44b5-4f11-870d-a12b22fbbcb9",
   "metadata": {},
   "source": [
    "## Question 5\n",
    " Write a python program to know data type of each element stored in a tuple, append the data types in a list.\n",
    "Show final output in a list as data types of tuple elements\n",
    "x = (11,22.333,'apple',[1,2,3],('a','b'))"
   ]
  },
  {
   "cell_type": "code",
   "execution_count": 13,
   "id": "60791d4a-c8d1-4c04-9943-7c201d8b5740",
   "metadata": {},
   "outputs": [
    {
     "name": "stdout",
     "output_type": "stream",
     "text": [
      "Data types of tuple elements: ['int', 'float', 'str', 'list', 'tuple']\n"
     ]
    }
   ],
   "source": [
    "x = (11,22.333,'apple',[1,2,3],('a','b'))\n",
    "\n",
    "data_types = []\n",
    "\n",
    "type_1 = type(x[0]).__name__\n",
    "type_2 = type(x[1]).__name__\n",
    "type_3 = type(x[2]).__name__\n",
    "type_4 = type(x[3]).__name__\n",
    "type_5 = type(x[4]).__name__\n",
    "\n",
    "data_types = [type_1, type_2, type_3, type_4, type_5]\n",
    "\n",
    "print(\"Data types of tuple elements:\", data_types)"
   ]
  },
  {
   "cell_type": "markdown",
   "id": "54fc88b9-8857-4f6b-96ed-7b50830017e5",
   "metadata": {},
   "source": [
    "## Question 6\n",
    "Write a Python program that:\n",
    "Checks if a given username exists in a list of active users.\n",
    "Verifies if the user is the admin using identity operators.\n",
    "Hints:\n",
    "Use a list of tuples where each tuple contains a username and role\n",
    "[(\"alice\", \"admin\"),\n",
    "(\"bob\", \"user\"),\n",
    "(\"charlie\", \"moderator\")]\n",
    "Use the in operator to check if the username exists in the list.\n",
    "Use the is operator to check if the user is the admin (admin is a specific reference, e.g., (\"alice\", \"admin\"))."
   ]
  },
  {
   "cell_type": "code",
   "execution_count": 6,
   "id": "c6156b2f-c09f-4a0b-bd42-bd31862381da",
   "metadata": {},
   "outputs": [
    {
     "name": "stdin",
     "output_type": "stream",
     "text": [
      "Enter the username: Alice\n"
     ]
    },
    {
     "name": "stdout",
     "output_type": "stream",
     "text": [
      "User Alice exists.\n",
      "User Alice is the admin.\n"
     ]
    }
   ],
   "source": [
    "active_users = [(\"alice\", \"admin\"), (\"bob\", \"user\"), (\"charlie\", \"moderator\")]\n",
    "username = input(\"Enter the username:\")\n",
    "\n",
    "admin_user = active_users[0]\n",
    "user_tuple = ()\n",
    "\n",
    "if username.lower() == active_users[0][0]:\n",
    "    user_tuple = active_users[0]\n",
    "    print(f\"User {username} exists.\")\n",
    "elif username.lower() == active_users[1][0]:\n",
    "    user_tuple = active_users[1]\n",
    "    print(f\"User {username} exists.\")\n",
    "elif username.lower() == active_users[2][0]:\n",
    "    user_tuple = active_users[2]\n",
    "    print(f\"User {username} exists.\")\n",
    "else:\n",
    "    print(f\"User {username} does not exist.\")\n",
    "\n",
    "if admin_user is user_tuple:\n",
    "    print(f\"User {username} is the admin.\")\n",
    "else:\n",
    "    print(f\"User {username} is not the admin.\")"
   ]
  },
  {
   "cell_type": "markdown",
   "id": "69b4d124-a9b5-4a95-8702-87add7cda15e",
   "metadata": {},
   "source": [
    "## Question 7\n",
    "person1 has same family as of person2, write a program to print relation between person1 and person2, if their data is ['father name','mother name','district','family number'] same (Print relation 'Siblings') also check person1\n",
    "data with person3 which is cousin of person1 (Print relation 'Cousin')\n",
    "Hint:\n",
    "Use identity operator"
   ]
  },
  {
   "cell_type": "code",
   "execution_count": 5,
   "id": "14258172-57ea-440d-93d9-c409f6894630",
   "metadata": {},
   "outputs": [
    {
     "name": "stdout",
     "output_type": "stream",
     "text": [
      "person1 and person2 are siblings.\n",
      "person1 and person3 are cousins.\n"
     ]
    }
   ],
   "source": [
    "person1 = ['father name','mother name','district','family number'] \n",
    "person2 = person1\n",
    "person3 = ['father name','mother name','district','family number']\n",
    "\n",
    "if person2 is person1:\n",
    "    print(\"person1 and person2 are siblings.\")\n",
    "else:\n",
    "    print(\"person1 and person2 are not siblings.\")\n",
    "\n",
    "if person3 is not person1:\n",
    "    print(\"person1 and person3 are cousins.\")\n",
    "else:\n",
    "    print(\"person1 and person3 are not cousins.\")"
   ]
  },
  {
   "cell_type": "markdown",
   "id": "37ef6646-aca0-4612-8f20-5604048d61ac",
   "metadata": {},
   "source": [
    "## Question 8\n",
    "Write a Python program to store and display a book's title, author, year of publication, and price using a tuple.Instructions:\n",
    "Create a tuple to store the book details.\n",
    "Ask the user for the book's title, author, year, and price.\n",
    "Display the stored book information."
   ]
  },
  {
   "cell_type": "code",
   "execution_count": 7,
   "id": "e29f34e1-19b9-44dd-8f13-d08e9f776589",
   "metadata": {},
   "outputs": [
    {
     "name": "stdin",
     "output_type": "stream",
     "text": [
      "Enter the title of the book: Title\n",
      "Enter the author of the book: Author\n",
      "Enter the year of publication of the book: 2022\n",
      "Enter the price of the book: 1200\n"
     ]
    },
    {
     "name": "stdout",
     "output_type": "stream",
     "text": [
      "Book Information: ('Title', 'Author', 2022, 1200)\n"
     ]
    }
   ],
   "source": [
    "title = input(\"Enter the title of the book:\")\n",
    "author = input(\"Enter the author of the book:\")\n",
    "year_of_publication = int(input(\"Enter the year of publication of the book:\"))\n",
    "price = int(input(\"Enter the price of the book:\"))\n",
    "\n",
    "book_details = (title, author, year_of_publication, price)\n",
    "\n",
    "print(f\"Book Information: {book_details}\")"
   ]
  },
  {
   "cell_type": "markdown",
   "id": "7c3d8ff1-c671-4e23-98f4-254cc8767f1b",
   "metadata": {},
   "source": [
    "## Question 9\n",
    "Write a program to check if a user’s chosen subject is available in the list of offered subjects.\n",
    "Instructions:\n",
    "Given a list of subjects, ask the user to input a subject.\n",
    "Display whether the subject is available or not."
   ]
  },
  {
   "cell_type": "code",
   "execution_count": 8,
   "id": "77832192-da27-4439-9896-274169798627",
   "metadata": {},
   "outputs": [
    {
     "name": "stdin",
     "output_type": "stream",
     "text": [
      "Enter the subject you would like to choose: Mathematics\n"
     ]
    },
    {
     "name": "stdout",
     "output_type": "stream",
     "text": [
      "The subject is available.\n"
     ]
    }
   ],
   "source": [
    "offered_subjects = [\"english\", \"mathematics\", \"physics\"]\n",
    "\n",
    "chosen_subject = input(\"Enter the subject you would like to choose:\")\n",
    "\n",
    "if chosen_subject.lower() in offered_subjects:\n",
    "    print(\"The subject is available.\")\n",
    "else:\n",
    "    print(\"The subject is not available.\")"
   ]
  },
  {
   "cell_type": "markdown",
   "id": "fb4044b2-fd3e-4caa-ae22-3d80861ca3d5",
   "metadata": {},
   "source": [
    "## Question 10\n",
    "Write a Python program that performs the following tasks using tuple methods\n",
    "Create a tuple with multiple integer values, including duplicates.\n",
    "Prompt the user to input a number and find the index of its first occurrence in the tuple.\n",
    "Ask the user for another number and count how many times it appears in the tuple.\n",
    "Display appropriate messages based on the results"
   ]
  },
  {
   "cell_type": "code",
   "execution_count": 9,
   "id": "9d5885fc-7df5-4da9-b2a2-fa278209b87f",
   "metadata": {},
   "outputs": [
    {
     "name": "stdin",
     "output_type": "stream",
     "text": [
      "Enter a number to find its index: 4\n"
     ]
    },
    {
     "name": "stdout",
     "output_type": "stream",
     "text": [
      "Index of its first occurrence: 1\n"
     ]
    },
    {
     "name": "stdin",
     "output_type": "stream",
     "text": [
      "Enter a number to count its occurences: 4\n"
     ]
    },
    {
     "name": "stdout",
     "output_type": "stream",
     "text": [
      "Count of occurrences: 3\n"
     ]
    }
   ],
   "source": [
    "tuple_var = (1, 4, 22, 4, 35, 5, 1, 4)\n",
    "\n",
    "number_for_index = int(input(\"Enter a number to find its index:\"))\n",
    "print(f\"Index of its first occurrence: {tuple_var.index(number_for_index)}\")\n",
    "\n",
    "number_for_count = int(input(\"Enter a number to count its occurences:\"))\n",
    "print(f\"Count of occurrences: {tuple_var.count(number_for_count)}\")"
   ]
  },
  {
   "cell_type": "markdown",
   "id": "041621f6-b65e-404d-bdf8-47575dffcfdf",
   "metadata": {},
   "source": [
    "## Question for Hard working learners (Not Mandatory)\n",
    "Write a Python program that asks the user to enter the current temperature in Celsius and checks whether it's\n",
    "freezing, normal, or hot based on predefined temperature values.\""
   ]
  },
  {
   "cell_type": "code",
   "execution_count": 10,
   "id": "20d5daaf-a5b3-47b6-9351-3b55496cfe48",
   "metadata": {},
   "outputs": [
    {
     "name": "stdin",
     "output_type": "stream",
     "text": [
      "Enter the current temperature in Celsius: 16\n"
     ]
    },
    {
     "name": "stdout",
     "output_type": "stream",
     "text": [
      "Normal temperature.\n"
     ]
    }
   ],
   "source": [
    "temperature = float(input(\"Enter the current temperature in Celsius:\"))\n",
    "\n",
    "freezing = -5\n",
    "normal = 25\n",
    "hot = 40\n",
    "\n",
    "if temperature <= freezing:\n",
    "    print(\"It's freezing!\")\n",
    "elif temperature <= normal:\n",
    "    print(\"Normal temperature.\")\n",
    "elif temperature <= hot:\n",
    "    print(\"It's getting hot!\")\n",
    "else:\n",
    "    print(\"Extreme hot temperature.\")"
   ]
  }
 ],
 "metadata": {
  "kernelspec": {
   "display_name": "Python 3 (ipykernel)",
   "language": "python",
   "name": "python3"
  },
  "language_info": {
   "codemirror_mode": {
    "name": "ipython",
    "version": 3
   },
   "file_extension": ".py",
   "mimetype": "text/x-python",
   "name": "python",
   "nbconvert_exporter": "python",
   "pygments_lexer": "ipython3",
   "version": "3.12.7"
  }
 },
 "nbformat": 4,
 "nbformat_minor": 5
}
