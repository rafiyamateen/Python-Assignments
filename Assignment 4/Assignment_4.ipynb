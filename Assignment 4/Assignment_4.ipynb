{
 "cells": [
  {
   "cell_type": "markdown",
   "id": "44cec69e-5515-4d01-80b6-70a2419ee115",
   "metadata": {},
   "source": [
    "## Question 1\n",
    "my_tuple = ( (1, 2, 3), [4, 5, 6], ('apple', 'banana', 'cherry'), [7, 8, 9] ) \n",
    "• Print all elements from my_tuple on a new line (using for loop) \n",
    "• Create a new tuple by concatenating the first and last elements of my_tuple"
   ]
  },
  {
   "cell_type": "code",
   "execution_count": 1,
   "id": "cc9f9244-be8a-42b2-bada-f5f51ddc5b34",
   "metadata": {},
   "outputs": [
    {
     "name": "stdout",
     "output_type": "stream",
     "text": [
      "(1, 2, 3)\n",
      "[4, 5, 6]\n",
      "('apple', 'banana', 'cherry')\n",
      "[7, 8, 9]\n",
      "\n",
      "New tuple: (1, 2, 3, 7, 8, 9)\n"
     ]
    }
   ],
   "source": [
    "my_tuple = ( (1, 2, 3), [4, 5, 6], ('apple', 'banana', 'cherry'), [7, 8, 9] )\n",
    "\n",
    "for element in my_tuple:\n",
    "    print(element)\n",
    "\n",
    "new_tuple = my_tuple[0] + tuple(my_tuple[-1])\n",
    "print(\"\\nNew tuple:\", new_tuple)"
   ]
  },
  {
   "cell_type": "markdown",
   "id": "d232cac5-b273-4eea-94ee-334f839e6597",
   "metadata": {},
   "source": [
    "## Question 2\n",
    "inventory = { \"The Great Gatsby\": {\"price\": 10.99, \"quantity\": 5}, \"Rich dad poor dad\": {\"price\":\n",
    "8.99, \"quantity\": 8}, \"Harry Potter\": {\"price\": 12.50, \"quantity\": 2}, } • Add a new book in inventory using method and get all book titles using method\n",
    "• Remove a book if it's out of stock"
   ]
  },
  {
   "cell_type": "code",
   "execution_count": 2,
   "id": "7d8f41e3-f60d-474d-a7a1-cc58b8249f36",
   "metadata": {},
   "outputs": [
    {
     "name": "stdout",
     "output_type": "stream",
     "text": [
      "All books: {'The Great Gatsby': {'price': 10.99, 'quantity': 5}, 'Rich dad poor dad': {'price': 8.99, 'quantity': 8}, 'Harry Potter': {'price': 12.5, 'quantity': 2}, 'Python': {'price': 18, 'quantity': 0}}\n",
      "\n",
      "All books titles: dict_keys(['The Great Gatsby', 'Rich dad poor dad', 'Harry Potter', 'Python'])\n",
      "\n",
      "Books in stock: {'The Great Gatsby': {'price': 10.99, 'quantity': 5}, 'Rich dad poor dad': {'price': 8.99, 'quantity': 8}, 'Harry Potter': {'price': 12.5, 'quantity': 2}}\n"
     ]
    }
   ],
   "source": [
    "inventory = {\"The Great Gatsby\": {\"price\": 10.99, \"quantity\": 5}, \"Rich dad poor dad\": {\"price\": 8.99, \"quantity\": 8}, \n",
    "             \"Harry Potter\": {\"price\": 12.50, \"quantity\": 2}}\n",
    "\n",
    "new_book = {\"Python\": {\"price\": 18, \"quantity\": 0}}\n",
    "inventory.update(new_book)\n",
    "\n",
    "print(\"All books:\", inventory)\n",
    "print(\"\\nAll books titles:\", inventory.keys())\n",
    "\n",
    "keys_to_del = []\n",
    "\n",
    "for key, value in inventory.items():\n",
    "    if not value['quantity'] > 0:\n",
    "        keys_to_del.append(key)\n",
    "\n",
    "for key in keys_to_del:\n",
    "    del inventory[key]\n",
    "\n",
    "print(\"\\nBooks in stock:\", inventory)"
   ]
  },
  {
   "cell_type": "markdown",
   "id": "5e54b301-ee4b-47ac-9a9c-23728bf19099",
   "metadata": {},
   "source": [
    "## Question 3\n",
    "An ecommerce store stores information about its products in a nested dictionary. The outer\n",
    "dictionary uses product IDs as keys, and the inner dictionary stores product details like name,\n",
    "category, price, and stock quantity.\n",
    "products = { 101: {\"name\": \"Laptop\", \"category\": \"Electronics\", \"price\": 1200, \"stock\": 50}, 102:\n",
    "{\"name\": \"Shirt\", \"category\": \"Apparel\", \"price\": 25, \"stock\": 200}, 103: {\"name\": \"Coffee Maker\",\n",
    "\"category\": \"Home Appliances\", \"price\": 80, \"stock\": 30} } • Increase the stock of the \"Shirt\" product (add 50 more units) • Add a new product (e.g., \"Smartphone\")"
   ]
  },
  {
   "cell_type": "code",
   "execution_count": 3,
   "id": "2a5f9634-4523-4b1e-a21d-abe5186e4670",
   "metadata": {},
   "outputs": [
    {
     "name": "stdout",
     "output_type": "stream",
     "text": [
      "Increased \"Shirt\" stock: {101: {'name': 'Laptop', 'category': 'Electronics', 'price': 1200, 'stock': 50}, 102: {'name': 'Shirt', 'category': 'Apparel', 'price': 25, 'stock': 250}, 103: {'name': 'Coffee Maker', 'category': 'Home Appliances', 'price': 80, 'stock': 30}}\n",
      "\n",
      "Added a new product:  {101: {'name': 'Laptop', 'category': 'Electronics', 'price': 1200, 'stock': 50}, 102: {'name': 'Shirt', 'category': 'Apparel', 'price': 25, 'stock': 250}, 103: {'name': 'Coffee Maker', 'category': 'Home Appliances', 'price': 80, 'stock': 30}, 104: {'name': 'Smartphone', 'category': 'Electronics', 'price': 800, 'stock': 3}}\n"
     ]
    }
   ],
   "source": [
    "products = { 101: {\"name\": \"Laptop\", \"category\": \"Electronics\", \"price\": 1200, \"stock\": 50}, \n",
    "            102: {\"name\": \"Shirt\", \"category\": \"Apparel\", \"price\": 25, \"stock\": 200}, \n",
    "            103: {\"name\": \"Coffee Maker\", \"category\": \"Home Appliances\", \"price\": 80, \"stock\": 30} }\n",
    "\n",
    "for key, value in products.items():\n",
    "    if value[\"name\"].lower() == \"shirt\":\n",
    "        products[key][\"stock\"] += 50\n",
    "\n",
    "print('Increased \"Shirt\" stock:', products)\n",
    "\n",
    "new_product = {104: {\"name\": \"Smartphone\", \"category\": \"Electronics\", \"price\": 800, \"stock\": 3}}\n",
    "\n",
    "products.update(new_product)\n",
    "print(\"\\nAdded a new product: \",products)"
   ]
  },
  {
   "cell_type": "markdown",
   "id": "fd5179c4-e880-4827-ab28-4c0b2aef0290",
   "metadata": {},
   "source": [
    "## Question 4\n",
    "You are given a list that contains some duplicate items. Remove the duplicates by converting the\n",
    "list to a set.\n",
    "shopping_list = [\"apple\", \"banana\", \"apple\", \"orange\", \"banana\", \"grape\"]"
   ]
  },
  {
   "cell_type": "code",
   "execution_count": 4,
   "id": "f8ca2382-fe3c-4ecc-8d07-eda0d3db9b7a",
   "metadata": {},
   "outputs": [
    {
     "name": "stdout",
     "output_type": "stream",
     "text": [
      "{'banana', 'orange', 'grape', 'apple'}\n"
     ]
    }
   ],
   "source": [
    "shopping_list = [\"apple\", \"banana\", \"apple\", \"orange\", \"banana\", \"grape\"]\n",
    "\n",
    "shopping_set = set(shopping_list)\n",
    "print(shopping_set)"
   ]
  },
  {
   "cell_type": "markdown",
   "id": "e5262978-6fd3-41ec-aa76-eee7301402a5",
   "metadata": {},
   "source": [
    "## Question 5\n",
    "You are managing a list of students enrolled in two different courses. You need to perform\n",
    "various set operations to understand the student enrollment. Task: Create two sets: one for students\n",
    "in \"Course A\" and one for students in \"Course B\". Find the students who are in \"Course A\" but not in\n",
    "\"Course B\" (difference). Find students who are only in one of the two courses (symmetric\n",
    "difference). course_a = {\"John\", \"Alice\", \"Bob\", \"David\"} course_b = {\"Alice\", \"Eve\", \"Charlie\",\n",
    "\"David\"}"
   ]
  },
  {
   "cell_type": "code",
   "execution_count": 5,
   "id": "b5526fc4-6274-411b-929f-c955c576369f",
   "metadata": {},
   "outputs": [
    {
     "name": "stdout",
     "output_type": "stream",
     "text": [
      "Difference: {'John', 'Bob'}\n",
      "Symmetric difference: {'John', 'Bob', 'Charlie', 'Eve'}\n"
     ]
    }
   ],
   "source": [
    "course_a = {\"John\", \"Alice\", \"Bob\", \"David\"} \n",
    "course_b = {\"Alice\", \"Eve\", \"Charlie\", \"David\"}\n",
    "\n",
    "set1 = course_a.difference(course_b)\n",
    "set2 = course_a.symmetric_difference(course_b)\n",
    "\n",
    "print(\"Difference:\", set1)\n",
    "print(\"Symmetric difference:\", set2)"
   ]
  },
  {
   "cell_type": "markdown",
   "id": "e7d64bd1-5106-4d6f-a1c4-0e32aef8a514",
   "metadata": {},
   "source": [
    "## Question 6\n",
    "Write a Python program that calculates the sum of all even numbers between 1 and 50\n",
    "(inclusive) using a for loop."
   ]
  },
  {
   "cell_type": "code",
   "execution_count": 6,
   "id": "e05cf29d-5407-4d45-8e91-703099e569e8",
   "metadata": {},
   "outputs": [
    {
     "name": "stdout",
     "output_type": "stream",
     "text": [
      "Sum of evens (1-50): 650\n"
     ]
    }
   ],
   "source": [
    "sum_of_evens = 0\n",
    "\n",
    "for num in range(1,51):\n",
    "    if num % 2 == 0:\n",
    "        sum_of_evens += num\n",
    "\n",
    "print(\"Sum of evens (1-50):\", sum_of_evens)"
   ]
  },
  {
   "cell_type": "markdown",
   "id": "8f38fce8-30fe-46ba-b7f3-3801614ecad4",
   "metadata": {},
   "source": [
    "## Question 7\n",
    "Write a Python program that prints the multiplication table for a given number (between 1 and\n",
    "10) using a for loop."
   ]
  },
  {
   "cell_type": "code",
   "execution_count": 7,
   "id": "bbbef2ad-b7eb-4886-9966-c3e036e0ce0b",
   "metadata": {},
   "outputs": [
    {
     "name": "stdin",
     "output_type": "stream",
     "text": [
      "Enter a number between 1 and 10 to print its table: 5\n"
     ]
    },
    {
     "name": "stdout",
     "output_type": "stream",
     "text": [
      "5 x 1 = 5\n",
      "5 x 2 = 10\n",
      "5 x 3 = 15\n",
      "5 x 4 = 20\n",
      "5 x 5 = 25\n",
      "5 x 6 = 30\n",
      "5 x 7 = 35\n",
      "5 x 8 = 40\n",
      "5 x 9 = 45\n",
      "5 x 10 = 50\n"
     ]
    }
   ],
   "source": [
    "given_number = int(input(\"Enter a number between 1 and 10 to print its table:\"))\n",
    "\n",
    "if (given_number >= 1 and given_number <= 10):\n",
    "    for integer in range(1,11):\n",
    "        print(f\"{given_number} x {integer} = {given_number*integer}\")\n",
    "else:\n",
    "    print(\"Invalid number!\")"
   ]
  },
  {
   "cell_type": "markdown",
   "id": "5316301d-5b6d-48e5-85b4-10440b619c46",
   "metadata": {},
   "source": [
    "## Question 8\n",
    "Power of a Number\n",
    "Write a Python program that takes a number and prints the powers of the number (starting from 1\n",
    "to 10) using a while loop."
   ]
  },
  {
   "cell_type": "code",
   "execution_count": 8,
   "id": "1ec0434b-9031-486f-a238-634a32fee37a",
   "metadata": {},
   "outputs": [
    {
     "name": "stdin",
     "output_type": "stream",
     "text": [
      "Enter a number to print its powers: 4\n"
     ]
    },
    {
     "name": "stdout",
     "output_type": "stream",
     "text": [
      "4 ^ 1 = 4\n",
      "4 ^ 2 = 16\n",
      "4 ^ 3 = 64\n",
      "4 ^ 4 = 256\n",
      "4 ^ 5 = 1024\n",
      "4 ^ 6 = 4096\n",
      "4 ^ 7 = 16384\n",
      "4 ^ 8 = 65536\n",
      "4 ^ 9 = 262144\n",
      "4 ^ 10 = 1048576\n"
     ]
    }
   ],
   "source": [
    "given_number = int(input(\"Enter a number to print its powers:\"))\n",
    "\n",
    "power = 1\n",
    "\n",
    "while power <= 10:\n",
    "    print(f\"{given_number} ^ {power} = {given_number**power}\")\n",
    "    power += 1"
   ]
  },
  {
   "cell_type": "markdown",
   "id": "0454716a-c418-4d82-9640-20c280c0a88d",
   "metadata": {},
   "source": [
    "## Question 9\n",
    "Problem Statement: Write a Python program that takes an integer input from the user and\n",
    "counts down from that number to 0. The program should display the current number at each step\n",
    "until it reaches 0, at which point it should print a message indicating the countdown is finished"
   ]
  },
  {
   "cell_type": "code",
   "execution_count": 9,
   "id": "e1433c29-7e54-45b4-8b47-5eb3c0d6b549",
   "metadata": {},
   "outputs": [
    {
     "name": "stdin",
     "output_type": "stream",
     "text": [
      "Enter a number to start the countdown: 6\n"
     ]
    },
    {
     "name": "stdout",
     "output_type": "stream",
     "text": [
      "6\n",
      "5\n",
      "4\n",
      "3\n",
      "2\n",
      "1\n",
      "0\n",
      "\n",
      "Countdown finished!\n"
     ]
    }
   ],
   "source": [
    "countdown_number = int(input(\"Enter a number to start the countdown:\"))\n",
    "\n",
    "while countdown_number >=0:\n",
    "    print(countdown_number)\n",
    "    countdown_number -= 1\n",
    "\n",
    "print(\"\\nCountdown finished!\")"
   ]
  },
  {
   "cell_type": "markdown",
   "id": "a5f1977a-b1a5-4304-a3e0-5981def3a490",
   "metadata": {},
   "source": [
    "## Question 10\n",
    "Write a Python program that takes an integer input n from the user and generates a rightangled triangle pattern of stars (*) with n rows. The first row should contain 1 star, the second row 2\n",
    "stars, the third row 3 stars, and so on until the nth row.\n",
    "Ensure the stars in each row are separated by spaces, and each row starts on a new line."
   ]
  },
  {
   "cell_type": "code",
   "execution_count": 10,
   "id": "a455d477-c349-4e14-b277-7381f02aba6b",
   "metadata": {},
   "outputs": [
    {
     "name": "stdin",
     "output_type": "stream",
     "text": [
      "Enter a number to generate pattern of stars: 4\n"
     ]
    },
    {
     "name": "stdout",
     "output_type": "stream",
     "text": [
      "* \n",
      "* * \n",
      "* * * \n",
      "* * * * \n"
     ]
    }
   ],
   "source": [
    "n = int(input(\"Enter a number to generate pattern of stars:\"))\n",
    "\n",
    "for i in range(1,n+1):\n",
    "    print(i * \"* \")"
   ]
  }
 ],
 "metadata": {
  "kernelspec": {
   "display_name": "Python 3 (ipykernel)",
   "language": "python",
   "name": "python3"
  },
  "language_info": {
   "codemirror_mode": {
    "name": "ipython",
    "version": 3
   },
   "file_extension": ".py",
   "mimetype": "text/x-python",
   "name": "python",
   "nbconvert_exporter": "python",
   "pygments_lexer": "ipython3",
   "version": "3.12.7"
  }
 },
 "nbformat": 4,
 "nbformat_minor": 5
}
