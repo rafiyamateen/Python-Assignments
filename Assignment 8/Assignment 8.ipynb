{
 "cells": [
  {
   "cell_type": "code",
   "execution_count": null,
   "id": "3db00ece",
   "metadata": {},
   "outputs": [],
   "source": [
    "import pandas as pd\n",
    "import numpy as np\n",
    "import matplotlib.pyplot as plt\n",
    "import warnings\n",
    "warnings.filterwarnings('ignore')"
   ]
  },
  {
   "cell_type": "code",
   "execution_count": null,
   "id": "be5af799",
   "metadata": {},
   "outputs": [
    {
     "data": {
      "text/html": [
       "<div>\n",
       "<style scoped>\n",
       "    .dataframe tbody tr th:only-of-type {\n",
       "        vertical-align: middle;\n",
       "    }\n",
       "\n",
       "    .dataframe tbody tr th {\n",
       "        vertical-align: top;\n",
       "    }\n",
       "\n",
       "    .dataframe thead th {\n",
       "        text-align: right;\n",
       "    }\n",
       "</style>\n",
       "<table border=\"1\" class=\"dataframe\">\n",
       "  <thead>\n",
       "    <tr style=\"text-align: right;\">\n",
       "      <th></th>\n",
       "      <th>invoice_no</th>\n",
       "      <th>invoice_date</th>\n",
       "      <th>customer_id</th>\n",
       "      <th>gender</th>\n",
       "      <th>age</th>\n",
       "      <th>category</th>\n",
       "      <th>quantity</th>\n",
       "      <th>selling_price_per_unit</th>\n",
       "      <th>cost_price_per_unit</th>\n",
       "      <th>payment_method</th>\n",
       "      <th>region</th>\n",
       "      <th>state</th>\n",
       "      <th>shopping_mall</th>\n",
       "    </tr>\n",
       "  </thead>\n",
       "  <tbody>\n",
       "    <tr>\n",
       "      <th>0</th>\n",
       "      <td>I138884</td>\n",
       "      <td>10/30/2016 9:58</td>\n",
       "      <td>C241288</td>\n",
       "      <td>Female</td>\n",
       "      <td>28</td>\n",
       "      <td>Clothing</td>\n",
       "      <td>5</td>\n",
       "      <td>1500.40</td>\n",
       "      <td>1425.380</td>\n",
       "      <td>Credit Card</td>\n",
       "      <td>South</td>\n",
       "      <td>Kentucky</td>\n",
       "      <td>Kanyon</td>\n",
       "    </tr>\n",
       "    <tr>\n",
       "      <th>1</th>\n",
       "      <td>I317333</td>\n",
       "      <td>10/30/2016 9:58</td>\n",
       "      <td>C111565</td>\n",
       "      <td>Male</td>\n",
       "      <td>21</td>\n",
       "      <td>Shoes</td>\n",
       "      <td>3</td>\n",
       "      <td>1800.51</td>\n",
       "      <td>1620.459</td>\n",
       "      <td>Debit Card</td>\n",
       "      <td>South</td>\n",
       "      <td>Kentucky</td>\n",
       "      <td>Viaport Outlet</td>\n",
       "    </tr>\n",
       "    <tr>\n",
       "      <th>2</th>\n",
       "      <td>I127801</td>\n",
       "      <td>10/30/2016 9:58</td>\n",
       "      <td>C266599</td>\n",
       "      <td>Male</td>\n",
       "      <td>20</td>\n",
       "      <td>Clothing</td>\n",
       "      <td>1</td>\n",
       "      <td>300.08</td>\n",
       "      <td>295.060</td>\n",
       "      <td>Cash</td>\n",
       "      <td>West</td>\n",
       "      <td>California</td>\n",
       "      <td>Metrocity</td>\n",
       "    </tr>\n",
       "    <tr>\n",
       "      <th>3</th>\n",
       "      <td>I173702</td>\n",
       "      <td>10/30/2016 9:58</td>\n",
       "      <td>C988172</td>\n",
       "      <td>Female</td>\n",
       "      <td>66</td>\n",
       "      <td>Shoes</td>\n",
       "      <td>5</td>\n",
       "      <td>3000.85</td>\n",
       "      <td>2900.765</td>\n",
       "      <td>Credit Card</td>\n",
       "      <td>South</td>\n",
       "      <td>Florida</td>\n",
       "      <td>Metropol AVM</td>\n",
       "    </tr>\n",
       "    <tr>\n",
       "      <th>4</th>\n",
       "      <td>I337046</td>\n",
       "      <td>10/30/2016 9:59</td>\n",
       "      <td>C189076</td>\n",
       "      <td>Female</td>\n",
       "      <td>53</td>\n",
       "      <td>Books</td>\n",
       "      <td>4</td>\n",
       "      <td>60.60</td>\n",
       "      <td>45.450</td>\n",
       "      <td>Cash</td>\n",
       "      <td>South</td>\n",
       "      <td>Florida</td>\n",
       "      <td>Kanyon</td>\n",
       "    </tr>\n",
       "  </tbody>\n",
       "</table>\n",
       "</div>"
      ],
      "text/plain": [
       "  invoice_no     invoice_date customer_id  gender  age  category  quantity  \\\n",
       "0    I138884  10/30/2016 9:58     C241288  Female   28  Clothing         5   \n",
       "1    I317333  10/30/2016 9:58     C111565    Male   21     Shoes         3   \n",
       "2    I127801  10/30/2016 9:58     C266599    Male   20  Clothing         1   \n",
       "3    I173702  10/30/2016 9:58     C988172  Female   66     Shoes         5   \n",
       "4    I337046  10/30/2016 9:59     C189076  Female   53     Books         4   \n",
       "\n",
       "   selling_price_per_unit  cost_price_per_unit payment_method region  \\\n",
       "0                 1500.40             1425.380    Credit Card  South   \n",
       "1                 1800.51             1620.459     Debit Card  South   \n",
       "2                  300.08              295.060           Cash   West   \n",
       "3                 3000.85             2900.765    Credit Card  South   \n",
       "4                   60.60               45.450           Cash  South   \n",
       "\n",
       "        state   shopping_mall  \n",
       "0    Kentucky          Kanyon  \n",
       "1    Kentucky  Viaport Outlet  \n",
       "2  California       Metrocity  \n",
       "3     Florida    Metropol AVM  \n",
       "4     Florida          Kanyon  "
      ]
     },
     "execution_count": 2,
     "metadata": {},
     "output_type": "execute_result"
    }
   ],
   "source": [
    "df = pd.read_csv(\"Different_stores_dataset.csv\")\n",
    "df.head()"
   ]
  },
  {
   "cell_type": "code",
   "execution_count": null,
   "id": "165f0fb5",
   "metadata": {},
   "outputs": [
    {
     "name": "stdout",
     "output_type": "stream",
     "text": [
      "<class 'pandas.core.frame.DataFrame'>\n",
      "RangeIndex: 99457 entries, 0 to 99456\n",
      "Data columns (total 14 columns):\n",
      " #   Column                  Non-Null Count  Dtype  \n",
      "---  ------                  --------------  -----  \n",
      " 0   invoice_no              99457 non-null  object \n",
      " 1   invoice_date            99457 non-null  object \n",
      " 2   customer_id             99457 non-null  object \n",
      " 3   gender                  99457 non-null  object \n",
      " 4   age                     99457 non-null  int64  \n",
      " 5   category                99457 non-null  object \n",
      " 6   quantity                99457 non-null  int64  \n",
      " 7   selling_price_per_unit  99457 non-null  float64\n",
      " 8   cost_price_per_unit     99457 non-null  float64\n",
      " 9   payment_method          99457 non-null  object \n",
      " 10  region                  99457 non-null  object \n",
      " 11  state                   99457 non-null  object \n",
      " 12  shopping_mall           99457 non-null  object \n",
      " 13  Total Sales             99457 non-null  float64\n",
      "dtypes: float64(3), int64(2), object(9)\n",
      "memory usage: 10.6+ MB\n"
     ]
    }
   ],
   "source": [
    "df.info()"
   ]
  },
  {
   "cell_type": "markdown",
   "id": "62298c37-3503-467f-85e3-1a44f163a334",
   "metadata": {},
   "source": [
    "### 1. Check missing values and duplicate records"
   ]
  },
  {
   "cell_type": "code",
   "execution_count": null,
   "id": "3df2cf5a",
   "metadata": {},
   "outputs": [
    {
     "name": "stdout",
     "output_type": "stream",
     "text": [
      "Missing values: \n"
     ]
    },
    {
     "data": {
      "text/plain": [
       "invoice_no                0\n",
       "invoice_date              0\n",
       "customer_id               0\n",
       "gender                    0\n",
       "age                       0\n",
       "category                  0\n",
       "quantity                  0\n",
       "selling_price_per_unit    0\n",
       "cost_price_per_unit       0\n",
       "payment_method            0\n",
       "region                    0\n",
       "state                     0\n",
       "shopping_mall             0\n",
       "dtype: int64"
      ]
     },
     "execution_count": 9,
     "metadata": {},
     "output_type": "execute_result"
    }
   ],
   "source": [
    "print(\"Missing values: \")\n",
    "df.isnull().sum()"
   ]
  },
  {
   "cell_type": "code",
   "execution_count": null,
   "id": "33ecef9a",
   "metadata": {},
   "outputs": [
    {
     "name": "stdout",
     "output_type": "stream",
     "text": [
      "Duplicate recorde:  0\n"
     ]
    }
   ],
   "source": [
    "print(\"Duplicate recorde: \", df[df.duplicated()].shape[0])"
   ]
  },
  {
   "cell_type": "markdown",
   "id": "c70db244-711e-4406-8d14-40c08539b8e5",
   "metadata": {},
   "source": [
    "### 2. Add column name 'Total Sales'"
   ]
  },
  {
   "cell_type": "code",
   "execution_count": null,
   "id": "09a13c66",
   "metadata": {},
   "outputs": [
    {
     "data": {
      "text/html": [
       "<div>\n",
       "<style scoped>\n",
       "    .dataframe tbody tr th:only-of-type {\n",
       "        vertical-align: middle;\n",
       "    }\n",
       "\n",
       "    .dataframe tbody tr th {\n",
       "        vertical-align: top;\n",
       "    }\n",
       "\n",
       "    .dataframe thead th {\n",
       "        text-align: right;\n",
       "    }\n",
       "</style>\n",
       "<table border=\"1\" class=\"dataframe\">\n",
       "  <thead>\n",
       "    <tr style=\"text-align: right;\">\n",
       "      <th></th>\n",
       "      <th>invoice_no</th>\n",
       "      <th>invoice_date</th>\n",
       "      <th>customer_id</th>\n",
       "      <th>gender</th>\n",
       "      <th>age</th>\n",
       "      <th>category</th>\n",
       "      <th>quantity</th>\n",
       "      <th>selling_price_per_unit</th>\n",
       "      <th>cost_price_per_unit</th>\n",
       "      <th>payment_method</th>\n",
       "      <th>region</th>\n",
       "      <th>state</th>\n",
       "      <th>shopping_mall</th>\n",
       "      <th>Total Sales</th>\n",
       "    </tr>\n",
       "  </thead>\n",
       "  <tbody>\n",
       "    <tr>\n",
       "      <th>0</th>\n",
       "      <td>I138884</td>\n",
       "      <td>10/30/2016 9:58</td>\n",
       "      <td>C241288</td>\n",
       "      <td>Female</td>\n",
       "      <td>28</td>\n",
       "      <td>Clothing</td>\n",
       "      <td>5</td>\n",
       "      <td>1500.40</td>\n",
       "      <td>1425.380</td>\n",
       "      <td>Credit Card</td>\n",
       "      <td>South</td>\n",
       "      <td>Kentucky</td>\n",
       "      <td>Kanyon</td>\n",
       "      <td>7502.00</td>\n",
       "    </tr>\n",
       "    <tr>\n",
       "      <th>1</th>\n",
       "      <td>I317333</td>\n",
       "      <td>10/30/2016 9:58</td>\n",
       "      <td>C111565</td>\n",
       "      <td>Male</td>\n",
       "      <td>21</td>\n",
       "      <td>Shoes</td>\n",
       "      <td>3</td>\n",
       "      <td>1800.51</td>\n",
       "      <td>1620.459</td>\n",
       "      <td>Debit Card</td>\n",
       "      <td>South</td>\n",
       "      <td>Kentucky</td>\n",
       "      <td>Viaport Outlet</td>\n",
       "      <td>5401.53</td>\n",
       "    </tr>\n",
       "  </tbody>\n",
       "</table>\n",
       "</div>"
      ],
      "text/plain": [
       "  invoice_no     invoice_date customer_id  gender  age  category  quantity  \\\n",
       "0    I138884  10/30/2016 9:58     C241288  Female   28  Clothing         5   \n",
       "1    I317333  10/30/2016 9:58     C111565    Male   21     Shoes         3   \n",
       "\n",
       "   selling_price_per_unit  cost_price_per_unit payment_method region  \\\n",
       "0                 1500.40             1425.380    Credit Card  South   \n",
       "1                 1800.51             1620.459     Debit Card  South   \n",
       "\n",
       "      state   shopping_mall  Total Sales  \n",
       "0  Kentucky          Kanyon      7502.00  \n",
       "1  Kentucky  Viaport Outlet      5401.53  "
      ]
     },
     "execution_count": 11,
     "metadata": {},
     "output_type": "execute_result"
    }
   ],
   "source": [
    "df[\"Total Sales\"] = df[\"selling_price_per_unit\"] * df[\"quantity\"]\n",
    "df.head(2)"
   ]
  },
  {
   "cell_type": "markdown",
   "id": "cb7a68ea-fe72-439b-85ac-3a443d67c2f2",
   "metadata": {},
   "source": [
    "### 3. How many customers have age more than 60?"
   ]
  },
  {
   "cell_type": "code",
   "execution_count": null,
   "id": "ae2fb3a8",
   "metadata": {},
   "outputs": [
    {
     "name": "stdout",
     "output_type": "stream",
     "text": [
      "Customers having age more than 60:  17169\n"
     ]
    }
   ],
   "source": [
    "print(\"Customers having age more than 60: \",df[df[\"age\"] > 60].shape[0])"
   ]
  },
  {
   "cell_type": "markdown",
   "id": "02f93e1f-5e74-4c7f-8934-92156288e982",
   "metadata": {},
   "source": [
    "### 4. How many unique customer_id entries are there? Do any customers make multiple purchases?"
   ]
  },
  {
   "cell_type": "code",
   "execution_count": null,
   "id": "cc45dc1c",
   "metadata": {},
   "outputs": [
    {
     "name": "stdout",
     "output_type": "stream",
     "text": [
      "Unique customer_id entries: 99457\n",
      "Multiple purchases: 0\n"
     ]
    }
   ],
   "source": [
    "print(\"Unique customer_id entries:\",df[\"customer_id\"].nunique())\n",
    "print(\"Multiple purchases:\", df[df[\"customer_id\"].duplicated()].shape[0])\n"
   ]
  },
  {
   "cell_type": "markdown",
   "id": "b5bafe98-cfe8-403e-9027-7c3c6208334b",
   "metadata": {},
   "source": [
    "### 5. Are there more male or female customers, Show in Pie Chart?"
   ]
  },
  {
   "cell_type": "code",
   "execution_count": null,
   "id": "45a39092",
   "metadata": {},
   "outputs": [
    {
     "data": {
      "image/png": "[encoded data removed]",
      "text/plain": [
       "<Figure size 640x480 with 1 Axes>"
      ]
     },
     "metadata": {},
     "output_type": "display_data"
    }
   ],
   "source": [
    "df.gender.value_counts().plot(kind=\"pie\")\n",
    "plt.title(\"Customers by gender\")\n",
    "plt.show()"
   ]
  },
  {
   "cell_type": "markdown",
   "id": "fbd9773a-65d3-4fc8-b885-b337f2c82a1f",
   "metadata": {},
   "source": [
    "### 6. Which category is least popular among customers?"
   ]
  },
  {
   "cell_type": "code",
   "execution_count": null,
   "id": "f7bb4e8a",
   "metadata": {},
   "outputs": [
    {
     "name": "stdout",
     "output_type": "stream",
     "text": [
      "Least popular category: Books\n"
     ]
    }
   ],
   "source": [
    "print(\"Least popular category:\", df.category.value_counts().idxmin())"
   ]
  },
  {
   "cell_type": "markdown",
   "id": "f460962d-92bb-40e5-9417-5647a3d2da5a",
   "metadata": {},
   "source": [
    "### 7. Which category has the highest sales volume?"
   ]
  },
  {
   "cell_type": "code",
   "execution_count": null,
   "id": "bb0ba468",
   "metadata": {},
   "outputs": [
    {
     "name": "stdout",
     "output_type": "stream",
     "text": [
      "Highest sales volume: Clothing\n"
     ]
    }
   ],
   "source": [
    "print(\"Highest sales volume:\", df.category.value_counts().idxmax())"
   ]
  },
  {
   "cell_type": "markdown",
   "id": "072ffb70-be13-4748-8379-3ab98cbde250",
   "metadata": {},
   "source": [
    "### 8. Add column name 'Total Profit'\n",
    "\n",
    "Total Profit=Total Sales−Total Costs"
   ]
  },
  {
   "cell_type": "code",
   "execution_count": null,
   "id": "5c2c99bd",
   "metadata": {},
   "outputs": [
    {
     "data": {
      "text/html": [
       "<div>\n",
       "<style scoped>\n",
       "    .dataframe tbody tr th:only-of-type {\n",
       "        vertical-align: middle;\n",
       "    }\n",
       "\n",
       "    .dataframe tbody tr th {\n",
       "        vertical-align: top;\n",
       "    }\n",
       "\n",
       "    .dataframe thead th {\n",
       "        text-align: right;\n",
       "    }\n",
       "</style>\n",
       "<table border=\"1\" class=\"dataframe\">\n",
       "  <thead>\n",
       "    <tr style=\"text-align: right;\">\n",
       "      <th></th>\n",
       "      <th>invoice_no</th>\n",
       "      <th>invoice_date</th>\n",
       "      <th>customer_id</th>\n",
       "      <th>gender</th>\n",
       "      <th>age</th>\n",
       "      <th>category</th>\n",
       "      <th>quantity</th>\n",
       "      <th>selling_price_per_unit</th>\n",
       "      <th>cost_price_per_unit</th>\n",
       "      <th>payment_method</th>\n",
       "      <th>region</th>\n",
       "      <th>state</th>\n",
       "      <th>shopping_mall</th>\n",
       "      <th>Total Sales</th>\n",
       "      <th>Total Profit</th>\n",
       "    </tr>\n",
       "  </thead>\n",
       "  <tbody>\n",
       "    <tr>\n",
       "      <th>0</th>\n",
       "      <td>I138884</td>\n",
       "      <td>10/30/2016 9:58</td>\n",
       "      <td>C241288</td>\n",
       "      <td>Female</td>\n",
       "      <td>28</td>\n",
       "      <td>Clothing</td>\n",
       "      <td>5</td>\n",
       "      <td>1500.40</td>\n",
       "      <td>1425.380</td>\n",
       "      <td>Credit Card</td>\n",
       "      <td>South</td>\n",
       "      <td>Kentucky</td>\n",
       "      <td>Kanyon</td>\n",
       "      <td>7502.00</td>\n",
       "      <td>375.100</td>\n",
       "    </tr>\n",
       "    <tr>\n",
       "      <th>1</th>\n",
       "      <td>I317333</td>\n",
       "      <td>10/30/2016 9:58</td>\n",
       "      <td>C111565</td>\n",
       "      <td>Male</td>\n",
       "      <td>21</td>\n",
       "      <td>Shoes</td>\n",
       "      <td>3</td>\n",
       "      <td>1800.51</td>\n",
       "      <td>1620.459</td>\n",
       "      <td>Debit Card</td>\n",
       "      <td>South</td>\n",
       "      <td>Kentucky</td>\n",
       "      <td>Viaport Outlet</td>\n",
       "      <td>5401.53</td>\n",
       "      <td>540.153</td>\n",
       "    </tr>\n",
       "    <tr>\n",
       "      <th>2</th>\n",
       "      <td>I127801</td>\n",
       "      <td>10/30/2016 9:58</td>\n",
       "      <td>C266599</td>\n",
       "      <td>Male</td>\n",
       "      <td>20</td>\n",
       "      <td>Clothing</td>\n",
       "      <td>1</td>\n",
       "      <td>300.08</td>\n",
       "      <td>295.060</td>\n",
       "      <td>Cash</td>\n",
       "      <td>West</td>\n",
       "      <td>California</td>\n",
       "      <td>Metrocity</td>\n",
       "      <td>300.08</td>\n",
       "      <td>5.020</td>\n",
       "    </tr>\n",
       "  </tbody>\n",
       "</table>\n",
       "</div>"
      ],
      "text/plain": [
       "  invoice_no     invoice_date customer_id  gender  age  category  quantity  \\\n",
       "0    I138884  10/30/2016 9:58     C241288  Female   28  Clothing         5   \n",
       "1    I317333  10/30/2016 9:58     C111565    Male   21     Shoes         3   \n",
       "2    I127801  10/30/2016 9:58     C266599    Male   20  Clothing         1   \n",
       "\n",
       "   selling_price_per_unit  cost_price_per_unit payment_method region  \\\n",
       "0                 1500.40             1425.380    Credit Card  South   \n",
       "1                 1800.51             1620.459     Debit Card  South   \n",
       "2                  300.08              295.060           Cash   West   \n",
       "\n",
       "        state   shopping_mall  Total Sales  Total Profit  \n",
       "0    Kentucky          Kanyon      7502.00       375.100  \n",
       "1    Kentucky  Viaport Outlet      5401.53       540.153  \n",
       "2  California       Metrocity       300.08         5.020  "
      ]
     },
     "execution_count": 47,
     "metadata": {},
     "output_type": "execute_result"
    }
   ],
   "source": [
    "df[\"Total Profit\"] = df[\"Total Sales\"] - (df[\"cost_price_per_unit\"] * df[\"quantity\"])\n",
    "df.head(3)"
   ]
  },
  {
   "cell_type": "markdown",
   "id": "25d34dd0-d3e7-4238-a0c5-7e65835affa4",
   "metadata": {},
   "source": [
    "### 9. Display the top 10 invoices with the highest quantities sold?"
   ]
  },
  {
   "cell_type": "code",
   "execution_count": null,
   "id": "8d90d9f8",
   "metadata": {},
   "outputs": [
    {
     "data": {
      "text/html": [
       "<div>\n",
       "<style scoped>\n",
       "    .dataframe tbody tr th:only-of-type {\n",
       "        vertical-align: middle;\n",
       "    }\n",
       "\n",
       "    .dataframe tbody tr th {\n",
       "        vertical-align: top;\n",
       "    }\n",
       "\n",
       "    .dataframe thead th {\n",
       "        text-align: right;\n",
       "    }\n",
       "</style>\n",
       "<table border=\"1\" class=\"dataframe\">\n",
       "  <thead>\n",
       "    <tr style=\"text-align: right;\">\n",
       "      <th></th>\n",
       "      <th>invoice_no</th>\n",
       "      <th>invoice_date</th>\n",
       "      <th>customer_id</th>\n",
       "      <th>gender</th>\n",
       "      <th>age</th>\n",
       "      <th>category</th>\n",
       "      <th>quantity</th>\n",
       "      <th>selling_price_per_unit</th>\n",
       "      <th>cost_price_per_unit</th>\n",
       "      <th>payment_method</th>\n",
       "      <th>region</th>\n",
       "      <th>state</th>\n",
       "      <th>shopping_mall</th>\n",
       "      <th>Total Sales</th>\n",
       "      <th>Total Profit</th>\n",
       "    </tr>\n",
       "  </thead>\n",
       "  <tbody>\n",
       "    <tr>\n",
       "      <th>100</th>\n",
       "      <td>I283443</td>\n",
       "      <td>10/30/2016 10:21</td>\n",
       "      <td>C189493</td>\n",
       "      <td>Male</td>\n",
       "      <td>43</td>\n",
       "      <td>Technology</td>\n",
       "      <td>15</td>\n",
       "      <td>3150.00</td>\n",
       "      <td>2677.500</td>\n",
       "      <td>Credit Card</td>\n",
       "      <td>Central</td>\n",
       "      <td>Illinois</td>\n",
       "      <td>Viaport Outlet</td>\n",
       "      <td>47250.00</td>\n",
       "      <td>7087.500</td>\n",
       "    </tr>\n",
       "    <tr>\n",
       "      <th>109</th>\n",
       "      <td>I293215</td>\n",
       "      <td>10/30/2016 10:23</td>\n",
       "      <td>C166635</td>\n",
       "      <td>Male</td>\n",
       "      <td>18</td>\n",
       "      <td>Cosmetics</td>\n",
       "      <td>12</td>\n",
       "      <td>162.64</td>\n",
       "      <td>130.112</td>\n",
       "      <td>Credit Card</td>\n",
       "      <td>Central</td>\n",
       "      <td>Illinois</td>\n",
       "      <td>Istinye Park</td>\n",
       "      <td>1951.68</td>\n",
       "      <td>390.336</td>\n",
       "    </tr>\n",
       "    <tr>\n",
       "      <th>275</th>\n",
       "      <td>I282789</td>\n",
       "      <td>10/30/2016 11:02</td>\n",
       "      <td>C172185</td>\n",
       "      <td>Female</td>\n",
       "      <td>67</td>\n",
       "      <td>Cosmetics</td>\n",
       "      <td>12</td>\n",
       "      <td>81.32</td>\n",
       "      <td>76.924</td>\n",
       "      <td>Cash</td>\n",
       "      <td>West</td>\n",
       "      <td>Idaho</td>\n",
       "      <td>Istinye Park</td>\n",
       "      <td>975.84</td>\n",
       "      <td>52.752</td>\n",
       "    </tr>\n",
       "    <tr>\n",
       "      <th>305</th>\n",
       "      <td>I115679</td>\n",
       "      <td>10/30/2016 11:09</td>\n",
       "      <td>C266462</td>\n",
       "      <td>Male</td>\n",
       "      <td>27</td>\n",
       "      <td>Clothing</td>\n",
       "      <td>11</td>\n",
       "      <td>300.08</td>\n",
       "      <td>285.060</td>\n",
       "      <td>Cash</td>\n",
       "      <td>Central</td>\n",
       "      <td>Michigan</td>\n",
       "      <td>Kanyon</td>\n",
       "      <td>3300.88</td>\n",
       "      <td>165.220</td>\n",
       "    </tr>\n",
       "    <tr>\n",
       "      <th>61</th>\n",
       "      <td>I207205</td>\n",
       "      <td>10/30/2016 10:12</td>\n",
       "      <td>C716161</td>\n",
       "      <td>Female</td>\n",
       "      <td>33</td>\n",
       "      <td>Clothing</td>\n",
       "      <td>10</td>\n",
       "      <td>300.08</td>\n",
       "      <td>225.060</td>\n",
       "      <td>Debit Card</td>\n",
       "      <td>East</td>\n",
       "      <td>New York</td>\n",
       "      <td>Kanyon</td>\n",
       "      <td>3000.80</td>\n",
       "      <td>750.200</td>\n",
       "    </tr>\n",
       "    <tr>\n",
       "      <th>129</th>\n",
       "      <td>I160221</td>\n",
       "      <td>10/30/2016 10:28</td>\n",
       "      <td>C319231</td>\n",
       "      <td>Male</td>\n",
       "      <td>25</td>\n",
       "      <td>Clothing</td>\n",
       "      <td>10</td>\n",
       "      <td>900.24</td>\n",
       "      <td>675.180</td>\n",
       "      <td>Cash</td>\n",
       "      <td>West</td>\n",
       "      <td>Oregon</td>\n",
       "      <td>Mall of Istanbul</td>\n",
       "      <td>9002.40</td>\n",
       "      <td>2250.600</td>\n",
       "    </tr>\n",
       "    <tr>\n",
       "      <th>224</th>\n",
       "      <td>I353272</td>\n",
       "      <td>10/30/2016 10:50</td>\n",
       "      <td>C199311</td>\n",
       "      <td>Female</td>\n",
       "      <td>34</td>\n",
       "      <td>Clothing</td>\n",
       "      <td>10</td>\n",
       "      <td>300.08</td>\n",
       "      <td>292.060</td>\n",
       "      <td>Credit Card</td>\n",
       "      <td>East</td>\n",
       "      <td>Ohio</td>\n",
       "      <td>Istinye Park</td>\n",
       "      <td>3000.80</td>\n",
       "      <td>80.200</td>\n",
       "    </tr>\n",
       "    <tr>\n",
       "      <th>201</th>\n",
       "      <td>I286193</td>\n",
       "      <td>10/30/2016 10:45</td>\n",
       "      <td>C322994</td>\n",
       "      <td>Male</td>\n",
       "      <td>37</td>\n",
       "      <td>Cosmetics</td>\n",
       "      <td>9</td>\n",
       "      <td>121.98</td>\n",
       "      <td>118.485</td>\n",
       "      <td>Cash</td>\n",
       "      <td>West</td>\n",
       "      <td>Colorado</td>\n",
       "      <td>Istinye Park</td>\n",
       "      <td>1097.82</td>\n",
       "      <td>31.455</td>\n",
       "    </tr>\n",
       "    <tr>\n",
       "      <th>11</th>\n",
       "      <td>I139207</td>\n",
       "      <td>10/30/2016 10:00</td>\n",
       "      <td>C191708</td>\n",
       "      <td>Female</td>\n",
       "      <td>29</td>\n",
       "      <td>Books</td>\n",
       "      <td>8</td>\n",
       "      <td>15.15</td>\n",
       "      <td>15.105</td>\n",
       "      <td>Credit Card</td>\n",
       "      <td>West</td>\n",
       "      <td>Idaho</td>\n",
       "      <td>Zorlu Center</td>\n",
       "      <td>121.20</td>\n",
       "      <td>0.360</td>\n",
       "    </tr>\n",
       "    <tr>\n",
       "      <th>145</th>\n",
       "      <td>I246375</td>\n",
       "      <td>10/30/2016 10:32</td>\n",
       "      <td>C236365</td>\n",
       "      <td>Female</td>\n",
       "      <td>67</td>\n",
       "      <td>Cosmetics</td>\n",
       "      <td>8</td>\n",
       "      <td>81.32</td>\n",
       "      <td>56.924</td>\n",
       "      <td>Cash</td>\n",
       "      <td>West</td>\n",
       "      <td>Oregon</td>\n",
       "      <td>Kanyon</td>\n",
       "      <td>650.56</td>\n",
       "      <td>195.168</td>\n",
       "    </tr>\n",
       "  </tbody>\n",
       "</table>\n",
       "</div>"
      ],
      "text/plain": [
       "    invoice_no      invoice_date customer_id  gender  age    category  \\\n",
       "100    I283443  10/30/2016 10:21     C189493    Male   43  Technology   \n",
       "109    I293215  10/30/2016 10:23     C166635    Male   18   Cosmetics   \n",
       "275    I282789  10/30/2016 11:02     C172185  Female   67   Cosmetics   \n",
       "305    I115679  10/30/2016 11:09     C266462    Male   27    Clothing   \n",
       "61     I207205  10/30/2016 10:12     C716161  Female   33    Clothing   \n",
       "129    I160221  10/30/2016 10:28     C319231    Male   25    Clothing   \n",
       "224    I353272  10/30/2016 10:50     C199311  Female   34    Clothing   \n",
       "201    I286193  10/30/2016 10:45     C322994    Male   37   Cosmetics   \n",
       "11     I139207  10/30/2016 10:00     C191708  Female   29       Books   \n",
       "145    I246375  10/30/2016 10:32     C236365  Female   67   Cosmetics   \n",
       "\n",
       "     quantity  selling_price_per_unit  cost_price_per_unit payment_method  \\\n",
       "100        15                 3150.00             2677.500    Credit Card   \n",
       "109        12                  162.64              130.112    Credit Card   \n",
       "275        12                   81.32               76.924           Cash   \n",
       "305        11                  300.08              285.060           Cash   \n",
       "61         10                  300.08              225.060     Debit Card   \n",
       "129        10                  900.24              675.180           Cash   \n",
       "224        10                  300.08              292.060    Credit Card   \n",
       "201         9                  121.98              118.485           Cash   \n",
       "11          8                   15.15               15.105    Credit Card   \n",
       "145         8                   81.32               56.924           Cash   \n",
       "\n",
       "      region     state     shopping_mall  Total Sales  Total Profit  \n",
       "100  Central  Illinois    Viaport Outlet     47250.00      7087.500  \n",
       "109  Central  Illinois      Istinye Park      1951.68       390.336  \n",
       "275     West     Idaho      Istinye Park       975.84        52.752  \n",
       "305  Central  Michigan            Kanyon      3300.88       165.220  \n",
       "61      East  New York            Kanyon      3000.80       750.200  \n",
       "129     West    Oregon  Mall of Istanbul      9002.40      2250.600  \n",
       "224     East      Ohio      Istinye Park      3000.80        80.200  \n",
       "201     West  Colorado      Istinye Park      1097.82        31.455  \n",
       "11      West     Idaho      Zorlu Center       121.20         0.360  \n",
       "145     West    Oregon            Kanyon       650.56       195.168  "
      ]
     },
     "execution_count": 57,
     "metadata": {},
     "output_type": "execute_result"
    }
   ],
   "source": [
    "df.nlargest(10,\"quantity\")"
   ]
  },
  {
   "cell_type": "markdown",
   "id": "c0dcf861-2b66-4157-a2c3-5933940128bc",
   "metadata": {},
   "source": [
    "### 10. Which payment method is most commonly used?"
   ]
  },
  {
   "cell_type": "code",
   "execution_count": null,
   "id": "10a6a633",
   "metadata": {},
   "outputs": [
    {
     "name": "stdout",
     "output_type": "stream",
     "text": [
      "Most commonly used payment method: Cash\n"
     ]
    }
   ],
   "source": [
    "print(\"Most commonly used payment method:\", df[\"payment_method\"].value_counts().idxmax())"
   ]
  },
  {
   "cell_type": "markdown",
   "id": "c7323023-4f9b-42ee-9088-6de00054ca8f",
   "metadata": {},
   "source": [
    "### 11. Total Sales with respect to region?"
   ]
  },
  {
   "cell_type": "code",
   "execution_count": null,
   "id": "4313031b",
   "metadata": {},
   "outputs": [
    {
     "data": {
      "text/plain": [
       "region\n",
       "Central    2545.715041\n",
       "East       2553.545558\n",
       "South      2508.204802\n",
       "West       2506.849984\n",
       "Name: Total Sales, dtype: float64"
      ]
     },
     "execution_count": 66,
     "metadata": {},
     "output_type": "execute_result"
    }
   ],
   "source": [
    "df.groupby(\"region\")[\"Total Sales\"].mean()"
   ]
  },
  {
   "cell_type": "markdown",
   "id": "fefb09f1-94fc-48b1-b692-cb218fba0e1f",
   "metadata": {},
   "source": [
    "### 12. Sort Malls with average sales higher to lower?"
   ]
  },
  {
   "cell_type": "code",
   "execution_count": null,
   "id": "ad59e1dd",
   "metadata": {},
   "outputs": [
    {
     "data": {
      "text/plain": [
       "shopping_mall\n",
       "Zorlu Center        2573.248351\n",
       "Kanyon              2550.618396\n",
       "Mall of Istanbul    2543.276766\n",
       "Viaport Outlet      2523.835118\n",
       "Istinye Park        2523.186677\n",
       "Metropol AVM        2497.777108\n",
       "Metrocity           2485.030133\n",
       "Name: Total Sales, dtype: float64"
      ]
     },
     "execution_count": 70,
     "metadata": {},
     "output_type": "execute_result"
    }
   ],
   "source": [
    "df.groupby(\"shopping_mall\")[\"Total Sales\"].mean().sort_values(ascending=False)"
   ]
  },
  {
   "cell_type": "markdown",
   "id": "d514fb1f-9c86-4bfa-b6db-1d79a40fd0ff",
   "metadata": {},
   "source": [
    "### 13. Sort categories with the highest profit margins display in bar plot?\n",
    "\n",
    "Profit Margin=(Total Sales/Total Profit)×100"
   ]
  },
  {
   "cell_type": "code",
   "execution_count": null,
   "id": "a13949b4",
   "metadata": {},
   "outputs": [
    {
     "name": "stdout",
     "output_type": "stream",
     "text": [
      "category\n",
      "Souvenir           28.077090\n",
      "Food & Beverage    28.009421\n",
      "Books              27.994478\n",
      "Cosmetics          24.958546\n",
      "Toys               24.953809\n",
      "Clothing           16.999275\n",
      "Shoes              11.897881\n",
      "Technology         11.009808\n",
      "Name: Profit Margin, dtype: float64\n"
     ]
    },
    {
     "data": {
      "image/png": "[encoded data removed]",
      "text/plain": [
       "<Figure size 1000x600 with 1 Axes>"
      ]
     },
     "metadata": {},
     "output_type": "display_data"
    }
   ],
   "source": [
    "df[\"Profit Margin\"] = (df[\"Total Profit\"]/df[\"Total Sales\"])*100\n",
    "sorted_categories_by_profit_margin = df.groupby('category')['Profit Margin'].mean().sort_values(ascending=False)\n",
    "print(sorted_categories_by_profit_margin)\n",
    "\n",
    "sorted_categories_by_profit_margin.plot(kind='bar',figsize=(10,6))\n",
    "plt.title(\"Categories with Highest Profit Margins\")\n",
    "plt.xlabel(\"Categories\")\n",
    "plt.ylabel(\"Average Profit Margin\")\n",
    "plt.show()"
   ]
  },
  {
   "cell_type": "markdown",
   "id": "037e054f-3fa4-4859-b51a-55adeb675558",
   "metadata": {},
   "source": [
    "### 14.  What is the total number of transactions per region for each payment method?"
   ]
  },
  {
   "cell_type": "code",
   "execution_count": null,
   "id": "0792e570",
   "metadata": {},
   "outputs": [
    {
     "data": {
      "text/plain": [
       "region   payment_method\n",
       "Central  Cash              10319\n",
       "         Credit Card        8140\n",
       "         Debit Card         4640\n",
       "East     Cash              12738\n",
       "         Credit Card        9817\n",
       "         Debit Card         5751\n",
       "South    Cash               7227\n",
       "         Credit Card        5698\n",
       "         Debit Card         3284\n",
       "West     Cash              14163\n",
       "         Credit Card       11276\n",
       "         Debit Card         6404\n",
       "dtype: int64"
      ]
     },
     "execution_count": 85,
     "metadata": {},
     "output_type": "execute_result"
    }
   ],
   "source": [
    "df.groupby([\"region\",\"payment_method\"]).size()"
   ]
  },
  {
   "cell_type": "markdown",
   "id": "3b048142-ea4e-4322-8964-48f1e95f91d7",
   "metadata": {},
   "source": [
    "### 15. How do sales in different categories compare between males and females?"
   ]
  },
  {
   "cell_type": "code",
   "execution_count": null,
   "id": "17767650",
   "metadata": {},
   "outputs": [
    {
     "name": "stdout",
     "output_type": "stream",
     "text": [
      "gender                Female         Male\n",
      "category                                 \n",
      "Books              489420.75    345238.20\n",
      "Clothing         68260097.84  45754397.92\n",
      "Cosmetics         4068073.66   2728611.28\n",
      "Food & Beverage    505322.60    344233.37\n",
      "Shoes            39425167.30  27128284.17\n",
      "Souvenir           382867.20    252957.45\n",
      "Technology       34669950.00  23230200.00\n",
      "Toys              2416046.08   1564380.16\n"
     ]
    },
    {
     "data": {
      "image/png": "[encoded data removed]",
      "text/plain": [
       "<Figure size 1000x400 with 1 Axes>"
      ]
     },
     "metadata": {},
     "output_type": "display_data"
    }
   ],
   "source": [
    "sales = df.groupby([\"category\",\"gender\"])[\"Total Sales\"].sum().unstack()\n",
    "print(sales)\n",
    "\n",
    "sales.plot(kind=\"bar\", figsize=(10,4))\n",
    "plt.title(\"Sales in different categories between males and females\")\n",
    "plt.ylabel(\"Total Sales\")\n",
    "plt.xlabel(\"Categories\")\n",
    "plt.show()"
   ]
  }
 ],
 "metadata": {
  "kernelspec": {
   "display_name": "base",
   "language": "python",
   "name": "python3"
  },
  "language_info": {
   "codemirror_mode": {
    "name": "ipython",
    "version": 3
   },
   "file_extension": ".py",
   "mimetype": "text/x-python",
   "name": "python",
   "nbconvert_exporter": "python",
   "pygments_lexer": "ipython3",
   "version": "3.12.7"
  }
 },
 "nbformat": 4,
 "nbformat_minor": 5
}
