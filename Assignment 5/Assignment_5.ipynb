{
 "cells": [
  {
   "cell_type": "markdown",
   "id": "170d9f80-0bdf-4d32-9736-93e86857cc87",
   "metadata": {},
   "source": [
    "## Question 1\n",
    "1. Write a Python function called add_numbers that takes two numbers as arguments and returns their sum. Then, test the function by calling it with two numbers of your choice."
   ]
  },
  {
   "cell_type": "code",
   "execution_count": 1,
   "id": "5e853d9b",
   "metadata": {},
   "outputs": [
    {
     "data": {
      "text/plain": [
       "8"
      ]
     },
     "execution_count": 1,
     "metadata": {},
     "output_type": "execute_result"
    }
   ],
   "source": [
    "def add_numbers(num1, num2):\n",
    "    return num1 + num2 \n",
    "\n",
    "add_numbers(5,3)"
   ]
  },
  {
   "cell_type": "markdown",
   "id": "7f9ede6d-db1d-4d2c-ac3c-c4e1a3653c30",
   "metadata": {},
   "source": [
    "## Question 2\n",
    "2. Write a Python function count_vowels that accepts a string and returns the number of vowels (a, e, i, o, u) in that string.\n",
    "- Example: 'Orange'\n",
    "- Output: 3 vowels\n"
   ]
  },
  {
   "cell_type": "code",
   "execution_count": 2,
   "id": "efbe6a8f",
   "metadata": {},
   "outputs": [
    {
     "data": {
      "text/plain": [
       "'5 vowels'"
      ]
     },
     "execution_count": 2,
     "metadata": {},
     "output_type": "execute_result"
    }
   ],
   "source": [
    "def count_vowels(string):\n",
    "    vowels = [\"a\", \"e\", \"i\", \"o\", \"u\"]\n",
    "    string = string.lower()\n",
    "    no_of_vowels = 0\n",
    "    \n",
    "    for i in vowels:\n",
    "       no_of_vowels += string.count(i)\n",
    "\n",
    "    return f\"{no_of_vowels} vowels\"\n",
    "\n",
    "count_vowels(\"Programming In Python\")"
   ]
  },
  {
   "cell_type": "markdown",
   "id": "09ed52aa-b88e-4f30-a017-652d8de535cc",
   "metadata": {},
   "source": [
    "## Question 3\n",
    "3. Create a Python function called currency_converter() that takes two arguments:\n",
    "\n",
    "- amount: The amount of money to be converted (in USD).\n",
    "- exchange_rate (default is 280): The conversion rate from USD to another currency (e.g., PKR). You can assume the default rate is 1 USD = 280 PKR.\n",
    "\n",
    "The function should return a message showing how much the given amount is worth in the target currency (PKR)."
   ]
  },
  {
   "cell_type": "code",
   "execution_count": 3,
   "id": "d81a6a30",
   "metadata": {},
   "outputs": [
    {
     "name": "stdout",
     "output_type": "stream",
     "text": [
      "100 USD is equal to 28000 in the target currency.\n",
      "100 USD is equal to 8600 in the target currency.\n"
     ]
    }
   ],
   "source": [
    "def currency_converter(amount, exchange_rate=280):\n",
    "    converted_amount = amount * exchange_rate\n",
    "\n",
    "    return f\"{amount} USD is equal to {converted_amount} in the target currency.\"\n",
    "\n",
    "result1 = currency_converter(100)    # with default parameter (exchange_rate)\n",
    "print(result1)\n",
    "\n",
    "result2 = currency_converter(100, 86)\n",
    "print(result2)"
   ]
  },
  {
   "cell_type": "markdown",
   "id": "80ee5bc1-0c50-4341-9c04-12c9706e3e2d",
   "metadata": {},
   "source": [
    "## Question 4\n",
    "4. Write a Python function display_student_info that accepts the following details about a student:\n",
    "\n",
    "- name (Keyword argument): The name of the student.\n",
    "- age (Keyword argument): The age of the student.\n",
    "- grade (Keyword argument): The grade the student is in.\n",
    "- school (Keyword argument): The name of the school the student attends."
   ]
  },
  {
   "cell_type": "code",
   "execution_count": 4,
   "id": "4929c3a3",
   "metadata": {},
   "outputs": [
    {
     "name": "stdout",
     "output_type": "stream",
     "text": [
      "Name: Sara \n",
      "Age: 14 \n",
      "Grade: 7 \n",
      "School: The City School\n"
     ]
    }
   ],
   "source": [
    "def display_student_info(name, age, grade, school):\n",
    "    print(f\"Name: {name} \\nAge: {age} \\nGrade: {grade} \\nSchool: {school}\")\n",
    "\n",
    "display_student_info(name=\"Sara\", age=14, school=\"The City School\", grade=7)"
   ]
  },
  {
   "cell_type": "markdown",
   "id": "0fe94f0f-cf3b-4122-8c18-204e74890214",
   "metadata": {},
   "source": [
    "## Question 5\n",
    "5. Write a Python function calculate_price that accepts two positional arguments:\n",
    "\n",
    "- price: The price of a single item.\n",
    "- quantity: The number of items bought.\n",
    "- The function should return the total price by multiplying price and quantity."
   ]
  },
  {
   "cell_type": "code",
   "execution_count": 5,
   "id": "f88b3298",
   "metadata": {},
   "outputs": [
    {
     "name": "stdout",
     "output_type": "stream",
     "text": [
      "Total price: 1200\n"
     ]
    }
   ],
   "source": [
    "def calculate_price(price, quantity):\n",
    "    return price * quantity\n",
    "\n",
    "total_price = calculate_price(300, 4)\n",
    "\n",
    "print(f\"Total price: {total_price}\")"
   ]
  },
  {
   "cell_type": "markdown",
   "id": "f296207b-8c2c-4fed-a439-55c62a4fad48",
   "metadata": {},
   "source": [
    "## Question 6\n",
    "6. Write a Python function display_prices that takes a product name and an arbitrary number of keyword arguments representing product prices. The function should display each product and its price.\n",
    "\n",
    "- Product: Laptop\n",
    "- Amazon: $800\n",
    "\n",
    "- eBay: $750\n",
    "  \n",
    "- Walmart: $780\n"
   ]
  },
  {
   "cell_type": "code",
   "execution_count": 6,
   "id": "7990d869",
   "metadata": {},
   "outputs": [
    {
     "name": "stdout",
     "output_type": "stream",
     "text": [
      "Product: Laptop\n",
      "\n",
      "Amazon: $800\n",
      "eBay: $750\n",
      "Walmart: $780\n"
     ]
    }
   ],
   "source": [
    "def display_prices(product_name, **product_prices):\n",
    "    print(f\"Product: {product_name}\\n\")\n",
    "\n",
    "    for key, value in product_prices.items():\n",
    "        print(f\"{key}: {value}\")\n",
    "\n",
    "display_prices(\"Laptop\", Amazon=\"$800\", eBay=\"$750\", Walmart=\"$780\")"
   ]
  },
  {
   "cell_type": "markdown",
   "id": "5f1c1d64-058b-4ace-ab15-ac1debdce1a0",
   "metadata": {},
   "source": [
    "## Question 7\n",
    "7. Write a Python function find_max that takes any number of numerical arguments and returns the maximum number."
   ]
  },
  {
   "cell_type": "code",
   "execution_count": 7,
   "id": "0c6a6893",
   "metadata": {},
   "outputs": [
    {
     "data": {
      "text/plain": [
       "34"
      ]
     },
     "execution_count": 7,
     "metadata": {},
     "output_type": "execute_result"
    }
   ],
   "source": [
    "def find_max(*numerical_arguments):\n",
    "    return max(numerical_arguments)\n",
    "\n",
    "find_max(1,5,34,6,9)"
   ]
  },
  {
   "cell_type": "markdown",
   "id": "133f4fd5-0f8d-4595-88c2-0cd7371c775b",
   "metadata": {},
   "source": [
    "## Question 8\n",
    "8. Write a Python function display_info that takes:\n",
    "\n",
    "- Positional arguments for the name and age of a person.\n",
    "- Keyword arguments for other personal details like address, phone number, and email.\n",
    "\n",
    "Example Output:\n",
    "\n",
    "- Name: Alice\n",
    "- Age: 30\n",
    "- Other Details:\n",
    "    - address: 123 Main St\n",
    "    - phone: 123-456-7890\n",
    "    - email: alice@example.com\n"
   ]
  },
  {
   "cell_type": "code",
   "execution_count": 8,
   "id": "e7b77040",
   "metadata": {},
   "outputs": [
    {
     "name": "stdout",
     "output_type": "stream",
     "text": [
      "Name: Alice \n",
      "Age: 20\n",
      "Other Details:\n",
      "\t - address: Street abc\n",
      "\t - email: alice@gmail.com\n"
     ]
    }
   ],
   "source": [
    "def display_info(name, age, **other_details):\n",
    "    print(f\"Name: {name} \\nAge: {age}\")\n",
    "\n",
    "    if other_details:\n",
    "        print(\"Other Details:\")\n",
    "        \n",
    "        for key, value in other_details.items():\n",
    "            print(f\"\\t - {key}: {value}\")\n",
    "\n",
    "display_info(\"Alice\", 20, address=\"Street abc\", email=\"alice@gmail.com\")"
   ]
  },
  {
   "cell_type": "markdown",
   "id": "ba32f7dd-8038-4e6d-a785-0244a500313c",
   "metadata": {},
   "source": [
    "## Question 9\n",
    "9. Write a Python function calculate_rectangle that accepts the length and width of a rectangle as arguments. Inside this function, create two nested functions:\n",
    "\n",
    "- calculate_area: This function should calculate the area of the rectangle.\n",
    "- calculate_perimeter: This function should calculate the perimeter of the rectangle.\n",
    "- The main function should return both the area and the perimeter of the rectangle."
   ]
  },
  {
   "cell_type": "code",
   "execution_count": 9,
   "id": "f5165d50",
   "metadata": {},
   "outputs": [
    {
     "name": "stdout",
     "output_type": "stream",
     "text": [
      "Area: 160 \n",
      "Perimeter: 56\n"
     ]
    }
   ],
   "source": [
    "def calculate_rectangle(length, width):\n",
    "\n",
    "    def calculate_area():\n",
    "        return width * length\n",
    "\n",
    "    def calculate_perimeter():\n",
    "        return 2 * width + 2 * length\n",
    "    \n",
    "    area = calculate_area()\n",
    "    perimeter = calculate_perimeter()\n",
    "\n",
    "    return f\"Area: {area} \\nPerimeter: {perimeter}\"\n",
    "\n",
    "result = calculate_rectangle(20,8)\n",
    "\n",
    "print(result)"
   ]
  },
  {
   "cell_type": "markdown",
   "id": "ff60a2fd-df19-4d11-ae27-27443c000e5a",
   "metadata": {},
   "source": [
    "## Question 10\n",
    "\n",
    "products = [\n",
    "    {\"name\": \"Laptop\", \"price\": 1200, \"in_stock\": True, \"discount\": 0.1},\n",
    "    {\"name\": \"Smartphone\", \"price\": 800, \"in_stock\": False, \"discount\": 0.05},\n",
    "    {\"name\": \"Headphones\", \"price\": 150, \"in_stock\": True, \"discount\": 0.2},\n",
    "    {\"name\": \"Smartwatch\", \"price\": 300, \"in_stock\": True, \"discount\": 0},\n",
    "    {\"name\": \"Keyboard\", \"price\": 100, \"in_stock\": True, \"discount\": 0.15}\n",
    "]\n",
    "\n",
    "- Get names of in-stock products:\n",
    "\n",
    "  *Use list comprehension to generate a list of names for the products that are in stock.\n",
    "                                            \n",
    "- Calculate final prices for in-stock products after discount:\n",
    "\n",
    "    *For products that have a discount, calculate the final price by applying the discount.\n",
    "\n",
    "  \n",
    "    *For products with no discount, keep the original price.\n",
    "                                            \n",
    "- Generate a list of tuples with the product name and its final price.\n",
    "\n",
    "Example Output:\n",
    "\n",
    "- In-stock product names: ['Laptop', 'Headphones', 'Smartwatch', 'Keyboard']\n",
    "- Discounted prices: [('Laptop', 1080.0), ('Headphones', 120.0), ('Smartwatch', 300), ('Keyboard', 85.0)]\n"
   ]
  },
  {
   "cell_type": "code",
   "execution_count": 10,
   "id": "258c9536-f80f-479a-a01d-92936f9d3a3f",
   "metadata": {},
   "outputs": [
    {
     "name": "stdout",
     "output_type": "stream",
     "text": [
      "In-stock product names: ['Laptop', 'Headphones', 'Smartwatch', 'Keyboard']\n",
      "Discounted prices: [('Laptop', 1080.0), ('Headphones', 120.0), ('Smartwatch', 300), ('Keyboard', 85.0)]\n"
     ]
    }
   ],
   "source": [
    "products = [\n",
    "    {\"name\": \"Laptop\", \"price\": 1200, \"in_stock\": True, \"discount\": 0.1},\n",
    "    {\"name\": \"Smartphone\", \"price\": 800, \"in_stock\": False, \"discount\": 0.05},\n",
    "    {\"name\": \"Headphones\", \"price\": 150, \"in_stock\": True, \"discount\": 0.2},\n",
    "    {\"name\": \"Smartwatch\", \"price\": 300, \"in_stock\": True, \"discount\": 0},\n",
    "    {\"name\": \"Keyboard\", \"price\": 100, \"in_stock\": True, \"discount\": 0.15}\n",
    "]\n",
    "\n",
    "in_stock_products = [item[\"name\"] for item in products if item[\"in_stock\"]]\n",
    "\n",
    "print(\"In-stock product names:\", in_stock_products)\n",
    "\n",
    "final_prices = []\n",
    "\n",
    "for item in products:\n",
    "    if item[\"in_stock\"]:\n",
    "        if item[\"discount\"] > 0:\n",
    "            final_prices.append((item[\"name\"], item[\"price\"] * (1 - item[\"discount\"])))\n",
    "        else:\n",
    "            final_prices.append((item[\"name\"], item[\"price\"]))\n",
    "\n",
    "print(\"Discounted prices:\", final_prices)"
   ]
  }
 ],
 "metadata": {
  "kernelspec": {
   "display_name": "Python 3",
   "language": "python",
   "name": "python3"
  },
  "language_info": {
   "codemirror_mode": {
    "name": "ipython",
    "version": 3
   },
   "file_extension": ".py",
   "mimetype": "text/x-python",
   "name": "python",
   "nbconvert_exporter": "python",
   "pygments_lexer": "ipython3",
   "version": "3.10.0"
  }
 },
 "nbformat": 4,
 "nbformat_minor": 5
}
