{
 "cells": [
  {
   "cell_type": "markdown",
   "id": "487a9f07-dca7-42c3-ac69-efa8841c683c",
   "metadata": {},
   "source": [
    "## Question 1: Age Group Classification"
   ]
  },
  {
   "cell_type": "code",
   "execution_count": 1,
   "id": "eb75d5aa-b35d-449f-8989-4cf2d0a9dfe5",
   "metadata": {},
   "outputs": [
    {
     "name": "stdin",
     "output_type": "stream",
     "text": [
      "Enter your age: 16\n"
     ]
    },
    {
     "name": "stdout",
     "output_type": "stream",
     "text": [
      "You are a teenager.\n"
     ]
    }
   ],
   "source": [
    "age = int(input(\"Enter your age:\"))\n",
    "\n",
    "if age >= 0 and age <= 12:\n",
    "    print(\"You are a child.\")\n",
    "elif age >= 13 and age <= 19:\n",
    "    print(\"You are a teenager.\")\n",
    "elif age >= 20 and age <= 64:\n",
    "    print(\"You are an adult.\")\n",
    "elif age >= 65:\n",
    "    print(\"You are a senior.\")"
   ]
  },
  {
   "cell_type": "markdown",
   "id": "1ccd9384-f910-408a-af9f-323cb560af1e",
   "metadata": {},
   "source": [
    "## Question 2: Checking for Eligibility for Discount"
   ]
  },
  {
   "cell_type": "code",
   "execution_count": 2,
   "id": "ae229e64-a265-4605-b8e8-0da9567741b9",
   "metadata": {},
   "outputs": [
    {
     "name": "stdin",
     "output_type": "stream",
     "text": [
      "Enter your membership status: Regular\n",
      "Enter your purchase amount: 2200\n"
     ]
    },
    {
     "name": "stdout",
     "output_type": "stream",
     "text": [
      "Eligible for discount\n"
     ]
    }
   ],
   "source": [
    "membershipStatus = input(\"Enter your membership status:\")\n",
    "purchaseAmount = float(input(\"Enter your purchase amount:\"))\n",
    "\n",
    "if membershipStatus.lower() == \"premium\" and purchaseAmount >= 1000:\n",
    "    print(\"Eligible for discount\")\n",
    "elif membershipStatus.lower() == \"regular\" and purchaseAmount >= 2000:\n",
    "    print(\"Eligible for discount\")\n",
    "else:\n",
    "    print(\"Not eligible for discount\")"
   ]
  },
  {
   "cell_type": "markdown",
   "id": "4a077ecd-ec8d-4f9c-b460-9c03e35bfe75",
   "metadata": {},
   "source": [
    "## Question 3: Voting Eligibility Check"
   ]
  },
  {
   "cell_type": "code",
   "execution_count": 3,
   "id": "ab0dda3e-f4d9-4b40-9f6b-f09b3f81c672",
   "metadata": {},
   "outputs": [
    {
     "name": "stdin",
     "output_type": "stream",
     "text": [
      "Enter your age: 17\n",
      "Enter your citizenship status (citizen/non-citizen): Citizen\n",
      "Are you citizen of a special region where voting is allowed from age 16? (Yes/No): Yes\n"
     ]
    },
    {
     "name": "stdout",
     "output_type": "stream",
     "text": [
      "Eligible to vote\n"
     ]
    }
   ],
   "source": [
    "age = int(input(\"Enter your age:\"))\n",
    "citizenshipStatus = input(\"Enter your citizenship status (citizen/non-citizen):\")\n",
    "specialRegion = input(\"Are you citizen of a special region where voting is allowed from age 16? (Yes/No):\")\n",
    "\n",
    "if age >= 18 and citizenshipStatus.lower() == \"citizen\":\n",
    "    print(\"Eligible to vote\")\n",
    "elif age >= 16 and (citizenshipStatus.lower() == \"citizen\" and specialRegion.lower() == \"yes\"):\n",
    "    print(\"Eligible to vote\")\n",
    "else:\n",
    "    print(\"Not eligible to vote\")"
   ]
  },
  {
   "cell_type": "markdown",
   "id": "c04d3e59-5fc5-4dd5-b4b0-9fc7dc11478c",
   "metadata": {},
   "source": [
    "## Question 4: Employee Salary Bonus Eligibility"
   ]
  },
  {
   "cell_type": "code",
   "execution_count": 4,
   "id": "6ee99ba8-3d98-498d-b955-38e762cc1d73",
   "metadata": {},
   "outputs": [
    {
     "name": "stdin",
     "output_type": "stream",
     "text": [
      "Enter employee's performance rating (Excellent/Good/Satisfactory): Satisfactory\n",
      "Enter employee's years of service: 16\n"
     ]
    },
    {
     "name": "stdout",
     "output_type": "stream",
     "text": [
      "Eligible for bonus\n"
     ]
    }
   ],
   "source": [
    "performanceRating = input(\"Enter employee's performance rating (Excellent/Good/Satisfactory):\")\n",
    "yearsOfService = int(input(\"Enter employee's years of service:\"))\n",
    "\n",
    "if performanceRating.lower() == \"excellent\" and yearsOfService >= 5:\n",
    "    print(\"Eligible for bonus\")\n",
    "elif performanceRating.lower() == \"good\" and yearsOfService >= 10:\n",
    "    print(\"Eligible for bonus\")\n",
    "elif performanceRating.lower() == \"satisfactory\" and yearsOfService >= 15:\n",
    "    print(\"Eligible for bonus\")\n",
    "else:\n",
    "    print(\"Not eligible for bonus\")"
   ]
  },
  {
   "cell_type": "markdown",
   "id": "a424931e-50cd-46e2-ae21-178072059a2d",
   "metadata": {},
   "source": [
    "## Question 5"
   ]
  },
  {
   "cell_type": "code",
   "execution_count": 5,
   "id": "ae95e730-b9f5-487a-ad19-5497cb622599",
   "metadata": {},
   "outputs": [
    {
     "name": "stdout",
     "output_type": "stream",
     "text": [
      "Replaced spaces with underscores: I'm_learning_Python_programming\n",
      "Number of underscores: 3\n",
      "Position of first underscore: 3\n"
     ]
    }
   ],
   "source": [
    "text = \"I'm learning Python programming\"\n",
    "newText = text.replace(\" \",\"_\")\n",
    "\n",
    "print(\"Replaced spaces with underscores: \" + newText)\n",
    "print(\"Number of underscores: \" + str(newText.count(\"_\")))\n",
    "print(\"Position of first underscore: \" + str(newText.find(\"_\")))"
   ]
  },
  {
   "cell_type": "markdown",
   "id": "3b7a06dd-02f3-4446-a8df-4e4e701e3ba3",
   "metadata": {},
   "source": [
    "## Question 6"
   ]
  },
  {
   "cell_type": "code",
   "execution_count": 6,
   "id": "b7fd7502-7947-4d4e-acb7-e12741ac9f25",
   "metadata": {},
   "outputs": [
    {
     "name": "stdin",
     "output_type": "stream",
     "text": [
      "Enter a string: I'm learning Python programming\n"
     ]
    },
    {
     "name": "stdout",
     "output_type": "stream",
     "text": [
      "All characters except the last 3: I'm learning Python programm\n",
      "Every second character: ' erigPto rgamn\n",
      "Reverse: gnimmargorp nohtyP gninrael m'I\n"
     ]
    }
   ],
   "source": [
    "string = input(\"Enter a string:\")\n",
    "\n",
    "print(\"All characters except the last 3: \" + string[:-3])\n",
    "print(\"Every second character: \" + string[1::2])\n",
    "print(\"Reverse: \" + string[::-1])"
   ]
  },
  {
   "cell_type": "markdown",
   "id": "c285bc6b-1358-47f1-a7b1-37b0f4832471",
   "metadata": {},
   "source": [
    "## Question 7: Reverse the order of the words"
   ]
  },
  {
   "cell_type": "code",
   "execution_count": 7,
   "id": "5ef2cb43-00ee-4cfd-a39a-0f6a31fd082f",
   "metadata": {},
   "outputs": [
    {
     "name": "stdout",
     "output_type": "stream",
     "text": [
      "Reversed sentence: Python learning are We World, Hello\n"
     ]
    }
   ],
   "source": [
    "givenSentence = \"Hello World, We are learning Python\"\n",
    "\n",
    "listOfStrings = givenSentence.split()\n",
    "listOfStrings.reverse()\n",
    "reversedSentence = \" \".join(listOfStrings)\n",
    "\n",
    "print(\"Reversed sentence: \" + reversedSentence)"
   ]
  },
  {
   "cell_type": "markdown",
   "id": "6c1ca4d5-999c-4f98-9e63-c702dc2fa510",
   "metadata": {},
   "source": [
    "## Question 8"
   ]
  },
  {
   "cell_type": "code",
   "execution_count": 8,
   "id": "801463f7-cbec-4e2b-ba93-7abd54bd3485",
   "metadata": {},
   "outputs": [
    {
     "name": "stdout",
     "output_type": "stream",
     "text": [
      "12345\n"
     ]
    }
   ],
   "source": [
    "productCode = \"SKU-12345-XYZ\"\n",
    "productCode2 = productCode.removeprefix(\"SKU-\")\n",
    "productCode3 = productCode2.removesuffix(\"-XYZ\")\n",
    "\n",
    "print(int(productCode3))"
   ]
  },
  {
   "cell_type": "markdown",
   "id": "aa05b357-6e45-44f2-8bf2-bea7a3e115b5",
   "metadata": {},
   "source": [
    "## Question 9: Password Validation "
   ]
  },
  {
   "cell_type": "code",
   "execution_count": 9,
   "id": "83f9f3d1-26f5-49fc-8c28-f472d91614eb",
   "metadata": {},
   "outputs": [
    {
     "name": "stdin",
     "output_type": "stream",
     "text": [
      "Enter your password: jfdsSDs kkjh723\n"
     ]
    },
    {
     "name": "stdout",
     "output_type": "stream",
     "text": [
      "Password should have at least one special character.\n"
     ]
    }
   ],
   "source": [
    "password = input(\"Enter your password:\")\n",
    "\n",
    "if not any(char.isupper() for char in password):\n",
    "    print(\"Password should have at least one uppercase character.\")\n",
    "elif not any(char.islower() for char in password):\n",
    "    print(\"Password should have at least one lowercase character.\")\n",
    "elif not any(char.isspace() for char in password):\n",
    "    print(\"Password should have at least one space.\")\n",
    "elif not any((not char.isalnum() and not char.isspace()) for char in password):\n",
    "    print(\"Password should have at least one special character.\")\n",
    "else:\n",
    "    print(\"Valid password!\")"
   ]
  },
  {
   "cell_type": "markdown",
   "id": "f2599e41-042d-466b-8a78-ca84bf1d5acf",
   "metadata": {},
   "source": [
    "## Question 10: Longest Word"
   ]
  },
  {
   "cell_type": "code",
   "execution_count": 10,
   "id": "f3db7a5a-8711-498d-8692-676b64b9310a",
   "metadata": {},
   "outputs": [
    {
     "name": "stdin",
     "output_type": "stream",
     "text": [
      "Enter any string to find the longest word: I'm learning Python programming\n"
     ]
    },
    {
     "name": "stdout",
     "output_type": "stream",
     "text": [
      "Longest word: programming\n"
     ]
    }
   ],
   "source": [
    "givenString = input(\"Enter any string to find the longest word:\")\n",
    "\n",
    "stringList = givenString.split()\n",
    "stringList.sort(key=len,reverse=True)\n",
    "print(\"Longest word: \" + stringList[0])"
   ]
  },
  {
   "cell_type": "code",
   "execution_count": null,
   "id": "0c54d210-c02b-46c5-a140-12c3d32d6bf4",
   "metadata": {},
   "outputs": [],
   "source": []
  }
 ],
 "metadata": {
  "kernelspec": {
   "display_name": "Python 3 (ipykernel)",
   "language": "python",
   "name": "python3"
  },
  "language_info": {
   "codemirror_mode": {
    "name": "ipython",
    "version": 3
   },
   "file_extension": ".py",
   "mimetype": "text/x-python",
   "name": "python",
   "nbconvert_exporter": "python",
   "pygments_lexer": "ipython3",
   "version": "3.12.7"
  }
 },
 "nbformat": 4,
 "nbformat_minor": 5
}
